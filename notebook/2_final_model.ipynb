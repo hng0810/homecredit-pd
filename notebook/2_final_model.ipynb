{
 "cells": [
  {
   "cell_type": "markdown",
   "id": "d27d394c",
   "metadata": {},
   "source": [
    "# Training Final Model and Dump OOB Testing Output"
   ]
  },
  {
   "cell_type": "code",
   "execution_count": 2,
   "id": "98c4ab66",
   "metadata": {},
   "outputs": [
    {
     "name": "stderr",
     "output_type": "stream",
     "text": [
      "c:\\Users\\HNg\\Desktop\\Researches\\202507_homecredit_pd\\venv\\Lib\\site-packages\\tqdm\\auto.py:21: TqdmWarning: IProgress not found. Please update jupyter and ipywidgets. See https://ipywidgets.readthedocs.io/en/stable/user_install.html\n",
      "  from .autonotebook import tqdm as notebook_tqdm\n"
     ]
    }
   ],
   "source": [
    "import numpy as np\n",
    "import pandas as pd\n",
    "import matplotlib as plt\n",
    "import seaborn as sns\n",
    "import optuna\n",
    "import lightgbm\n",
    "from sklearn.model_selection import KFold\n",
    "from sklearn.metrics import roc_auc_score\n",
    "\n",
    "import os\n",
    "import yaml\n",
    "import sys\n",
    "\n",
    "sys.path.append('../src')\n",
    "import utils.utils as utils\n",
    "\n",
    "!pip freeze > ../requirements.txt"
   ]
  },
  {
   "cell_type": "code",
   "execution_count": 3,
   "id": "755b6866",
   "metadata": {},
   "outputs": [],
   "source": [
    "data = pd.read_csv('../data/cleaned_train_set.csv')"
   ]
  },
  {
   "cell_type": "markdown",
   "id": "2296588d",
   "metadata": {},
   "source": [
    "## Training model with optimized params"
   ]
  },
  {
   "cell_type": "markdown",
   "id": "f548c6f8",
   "metadata": {},
   "source": [
    "### Training Model"
   ]
  },
  {
   "cell_type": "code",
   "execution_count": 4,
   "id": "1a8b7fdc",
   "metadata": {},
   "outputs": [
    {
     "name": "stdout",
     "output_type": "stream",
     "text": [
      "Training Fold 1\n",
      "Training until validation scores don't improve for 50 rounds\n",
      "Did not meet early stopping. Best iteration is:\n",
      "[1000]\ttraining's auc: 0.85563\tvalid_1's auc: 0.775479\n",
      "Training Fold 2\n",
      "Training until validation scores don't improve for 50 rounds\n",
      "Did not meet early stopping. Best iteration is:\n",
      "[992]\ttraining's auc: 0.855465\tvalid_1's auc: 0.7755\n",
      "Training Fold 3\n",
      "Training until validation scores don't improve for 50 rounds\n",
      "Did not meet early stopping. Best iteration is:\n",
      "[1000]\ttraining's auc: 0.855515\tvalid_1's auc: 0.775495\n",
      "Training Fold 4\n",
      "Training until validation scores don't improve for 50 rounds\n",
      "Did not meet early stopping. Best iteration is:\n",
      "[992]\ttraining's auc: 0.855295\tvalid_1's auc: 0.776714\n",
      "Training Fold 5\n",
      "Training until validation scores don't improve for 50 rounds\n",
      "Did not meet early stopping. Best iteration is:\n",
      "[998]\ttraining's auc: 0.854787\tvalid_1's auc: 0.773815\n"
     ]
    }
   ],
   "source": [
    "X = data.drop(['TARGET', 'SK_ID_CURR'], axis=1)\n",
    "y = data['TARGET']\n",
    "\n",
    "# Double check categorical cols\n",
    "cat_cols = [col for col in X.columns if X[col].dtype == 'object' or str(X[col].dtype) == 'category']\n",
    "for col in cat_cols:\n",
    "    X[col] = X[col].astype('category')\n",
    "\n",
    "kf = KFold(n_splits=5, shuffle=True, random_state=810)\n",
    "\n",
    "models = []\n",
    "\n",
    "with open('../configs/model_config.yaml', 'r') as file:\n",
    "    params = yaml.safe_load(file)\n",
    "\n",
    "params['objective'] = 'binary'\n",
    "params['metric'] = 'auc'\n",
    "params['verbosity'] = -1\n",
    "params['boosting_type'] = 'gbdt'\n",
    "params['random_state'] = 810\n",
    "\n",
    "for fold, (train_idx, val_idx) in enumerate(kf.split(X, y)):\n",
    "    print(f\"Training Fold {fold+1}\")\n",
    "    X_train, X_val = X.iloc[train_idx], X.iloc[val_idx]\n",
    "    y_train, y_val = y.iloc[train_idx], y.iloc[val_idx]\n",
    "\n",
    "    train_data = lightgbm.Dataset(X_train, label=y_train, categorical_feature=cat_cols)\n",
    "    val_data = lightgbm.Dataset(X_val, label=y_val, reference=train_data)\n",
    "\n",
    "    model = lightgbm.train(\n",
    "        params,\n",
    "        train_data,\n",
    "        valid_sets=[train_data, val_data],\n",
    "        num_boost_round=1000,\n",
    "        callbacks=[\n",
    "            lightgbm.early_stopping(stopping_rounds=50)\n",
    "        ]\n",
    "    )\n",
    "    models.append(model)"
   ]
  },
  {
   "cell_type": "markdown",
   "id": "5d66ab91",
   "metadata": {},
   "source": [
    "### Calculate ROC AUC and GINI for ensembled model"
   ]
  },
  {
   "cell_type": "code",
   "execution_count": 5,
   "id": "8baa4412",
   "metadata": {},
   "outputs": [
    {
     "name": "stdout",
     "output_type": "stream",
     "text": [
      "ROC AUC: 0.8427609536399404\n",
      "GINI: 0.6855219072798808\n"
     ]
    }
   ],
   "source": [
    "X_train, X_val = X.iloc[train_idx], X.iloc[val_idx]\n",
    "y_train, y_val = y.iloc[train_idx], y.iloc[val_idx]\n",
    "\n",
    "preds = np.zeros(len(X_val))\n",
    "# Calculate and print the ROC AUC\n",
    "for model in models:\n",
    "    preds += model.predict(X_val) / len(models)\n",
    "roc_auc = roc_auc_score(y_val, preds)\n",
    "\n",
    "# Calculate GINI\n",
    "gini = 2 * roc_auc - 1\n",
    "print(f\"ROC AUC: {roc_auc}\")\n",
    "print(f\"GINI: {gini}\")"
   ]
  },
  {
   "cell_type": "code",
   "execution_count": 7,
   "id": "ccb969d3",
   "metadata": {},
   "outputs": [],
   "source": [
    "for i, model in enumerate(models):\n",
    "    model.save_model(f'../model/model_fold_{i+1}.txt')"
   ]
  },
  {
   "cell_type": "markdown",
   "id": "0d9a5172",
   "metadata": {},
   "source": [
    "## Predict on OOB Test Set"
   ]
  },
  {
   "cell_type": "code",
   "execution_count": 24,
   "id": "eccdd2f2",
   "metadata": {},
   "outputs": [],
   "source": [
    "oob_set = pd.read_csv('../data/cleaned_oob_set.csv')\n",
    "X_test = oob_set.drop(['SK_ID_CURR'], axis=1)"
   ]
  },
  {
   "cell_type": "code",
   "execution_count": 25,
   "id": "d64f3767",
   "metadata": {},
   "outputs": [],
   "source": [
    "for col in cat_cols:\n",
    "    X_test[col] = X_test[col].astype('category')"
   ]
  },
  {
   "cell_type": "code",
   "execution_count": 26,
   "id": "79c9b13a",
   "metadata": {},
   "outputs": [],
   "source": [
    "# Initialize preds for test set\n",
    "preds = np.zeros(len(X_test))\n",
    "\n",
    "# Calculate and print the ROC AUC\n",
    "for model in models:\n",
    "    preds += model.predict(X_test, raw_score=False) / len(models)"
   ]
  },
  {
   "cell_type": "code",
   "execution_count": 27,
   "id": "8ff53a8f",
   "metadata": {},
   "outputs": [],
   "source": [
    "# Create new test output with SK_ID_CURR on X set and preds\n",
    "test_output = pd.DataFrame({'SK_ID_CURR': oob_set['SK_ID_CURR'], 'TARGET': preds})\n",
    "test_output.to_csv('../data/dump/submission.csv', index=False)"
   ]
  }
 ],
 "metadata": {
  "kernelspec": {
   "display_name": "venv",
   "language": "python",
   "name": "python3"
  },
  "language_info": {
   "codemirror_mode": {
    "name": "ipython",
    "version": 3
   },
   "file_extension": ".py",
   "mimetype": "text/x-python",
   "name": "python",
   "nbconvert_exporter": "python",
   "pygments_lexer": "ipython3",
   "version": "3.11.1"
  }
 },
 "nbformat": 4,
 "nbformat_minor": 5
}
