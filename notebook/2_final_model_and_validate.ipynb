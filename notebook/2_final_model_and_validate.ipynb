{
 "cells": [
  {
   "cell_type": "markdown",
   "id": "d27d394c",
   "metadata": {},
   "source": [
    "# Training Final Model"
   ]
  },
  {
   "cell_type": "code",
   "execution_count": 1,
   "id": "98c4ab66",
   "metadata": {},
   "outputs": [
    {
     "name": "stderr",
     "output_type": "stream",
     "text": [
      "d:\\huynq1\\202507-homecredit-pd\\venv\\Lib\\site-packages\\tqdm\\auto.py:21: TqdmWarning: IProgress not found. Please update jupyter and ipywidgets. See https://ipywidgets.readthedocs.io/en/stable/user_install.html\n",
      "  from .autonotebook import tqdm as notebook_tqdm\n"
     ]
    }
   ],
   "source": [
    "import numpy as np\n",
    "import pandas as pd\n",
    "import matplotlib.pyplot as plt\n",
    "import seaborn as sns\n",
    "import optuna\n",
    "import lightgbm\n",
    "from sklearn.model_selection import StratifiedKFold, train_test_split\n",
    "from sklearn.metrics import roc_auc_score, auc, roc_curve, confusion_matrix\n",
    "from datetime import datetime\n",
    "\n",
    "import os\n",
    "import yaml\n",
    "import sys\n",
    "\n",
    "sys.path.append('../src')\n",
    "import utils.utils as utils\n",
    "\n",
    "!pip freeze > ../requirements.txt"
   ]
  },
  {
   "cell_type": "code",
   "execution_count": 5,
   "id": "755b6866",
   "metadata": {},
   "outputs": [],
   "source": [
    "train_set = pd.read_csv('../data/cleaned_train_data.csv')\n",
    "test_set = pd.read_csv('../data/cleaned_test_data.csv')\n",
    "\n",
    "X_train = train_set.drop(['SK_ID_CURR', 'TARGET'], axis=1)\n",
    "y_train = train_set.TARGET\n",
    "X_test = test_set.drop(['SK_ID_CURR', 'TARGET'], axis=1)\n",
    "y_test = test_set.TARGET\n",
    "\n",
    "# Double check categorical cols\n",
    "cat_cols = [col for col in X_train.columns if X_train[col].dtype == 'object' or X_train[col].dtype == 'category']\n",
    "for col in cat_cols:\n",
    "    X_train[col] = X_train[col].astype('category')\n",
    "    X_test[col] = X_test[col].astype('category')"
   ]
  },
  {
   "cell_type": "markdown",
   "id": "2296588d",
   "metadata": {},
   "source": [
    "## Model training with optimized params"
   ]
  },
  {
   "cell_type": "markdown",
   "id": "f548c6f8",
   "metadata": {},
   "source": [
    "### Train model"
   ]
  },
  {
   "cell_type": "code",
   "execution_count": 8,
   "id": "1a8b7fdc",
   "metadata": {},
   "outputs": [
    {
     "name": "stdout",
     "output_type": "stream",
     "text": [
      "Training Fold 1\n",
      "Training until validation scores don't improve for 50 rounds\n",
      "Early stopping, best iteration is:\n",
      "[851]\ttraining's auc: 0.867293\tvalid_1's auc: 0.774376\n",
      "Training Fold 2\n",
      "Training until validation scores don't improve for 50 rounds\n",
      "Early stopping, best iteration is:\n",
      "[936]\ttraining's auc: 0.871597\tvalid_1's auc: 0.775216\n",
      "Training Fold 3\n",
      "Training until validation scores don't improve for 50 rounds\n",
      "Did not meet early stopping. Best iteration is:\n",
      "[998]\ttraining's auc: 0.8771\tvalid_1's auc: 0.776762\n",
      "Training Fold 4\n",
      "Training until validation scores don't improve for 50 rounds\n",
      "Did not meet early stopping. Best iteration is:\n",
      "[994]\ttraining's auc: 0.877073\tvalid_1's auc: 0.77114\n",
      "Training Fold 5\n",
      "Training until validation scores don't improve for 50 rounds\n",
      "Early stopping, best iteration is:\n",
      "[832]\ttraining's auc: 0.864302\tvalid_1's auc: 0.76759\n"
     ]
    }
   ],
   "source": [
    "kf = StratifiedKFold(n_splits=5, shuffle=True, random_state=810)\n",
    "\n",
    "models = []\n",
    "\n",
    "with open('../configs/model_config.yaml', 'r') as file:\n",
    "    params = yaml.safe_load(file)\n",
    "\n",
    "params['objective'] = 'binary'\n",
    "params['metric'] = 'auc'\n",
    "params['verbosity'] = -1\n",
    "params['boosting_type'] = 'gbdt'\n",
    "params['random_state'] = 810\n",
    "\n",
    "for fold, (train_idx, val_idx) in enumerate(kf.split(X_train, y_train)):\n",
    "    print(f\"Training Fold {fold+1}\")\n",
    "    X_train_kf, X_val = X_train.iloc[train_idx], X_train.iloc[val_idx]\n",
    "    y_train_kf, y_val = y_train.iloc[train_idx], y_train.iloc[val_idx]\n",
    "\n",
    "    train_data = lightgbm.Dataset(X_train_kf, label=y_train_kf, categorical_feature=cat_cols)\n",
    "    val_data = lightgbm.Dataset(X_val, label=y_val, reference=train_data)\n",
    "    \n",
    "    model = lightgbm.train(\n",
    "        params,\n",
    "        train_data,\n",
    "        valid_sets=[train_data, val_data],\n",
    "        num_boost_round=1000,\n",
    "        callbacks=[\n",
    "            lightgbm.early_stopping(stopping_rounds=50),\n",
    "        ]\n",
    "    )\n",
    "    models.append(model)"
   ]
  },
  {
   "cell_type": "markdown",
   "id": "5d66ab91",
   "metadata": {},
   "source": [
    "### Calculate ROC AUC and GINI for ensembled model"
   ]
  },
  {
   "cell_type": "code",
   "execution_count": 20,
   "id": "8baa4412",
   "metadata": {},
   "outputs": [
    {
     "name": "stdout",
     "output_type": "stream",
     "text": [
      "ROC AUC: 0.7779534976791839\n",
      "GINI: 0.5559069953583677\n"
     ]
    }
   ],
   "source": [
    "preds = np.zeros(len(X_test))\n",
    "# Calculate and print the ROC AUC\n",
    "for model in models:\n",
    "    preds += model.predict(X_test) / len(models)\n",
    "roc_auc = roc_auc_score(y_test, preds)\n",
    "\n",
    "# Calculate GINI\n",
    "gini = 2 * roc_auc - 1\n",
    "print(f\"ROC AUC: {roc_auc}\")\n",
    "print(f\"GINI: {gini}\")"
   ]
  },
  {
   "cell_type": "code",
   "execution_count": 11,
   "id": "ccb969d3",
   "metadata": {},
   "outputs": [],
   "source": [
    "# Get the current datetime\n",
    "current_datetime = datetime.now().strftime('%y-%m-%d_%H-%M-%S')\n",
    "\n",
    "for i, model in enumerate(models):\n",
    "    model.save_model(f'../models/{current_datetime}_lgbm_fold_{i+1}.txt')"
   ]
  },
  {
   "cell_type": "markdown",
   "id": "0d9a5172",
   "metadata": {},
   "source": [
    "## Validating Model"
   ]
  },
  {
   "cell_type": "code",
   "execution_count": 21,
   "id": "81a4d5b3",
   "metadata": {},
   "outputs": [
    {
     "data": {
      "text/plain": [
       "array([[56441,    96],\n",
       "       [ 4805,   160]])"
      ]
     },
     "execution_count": 21,
     "metadata": {},
     "output_type": "execute_result"
    }
   ],
   "source": [
    "cm = confusion_matrix(y_test, preds.round())\n",
    "cm"
   ]
  },
  {
   "cell_type": "code",
   "execution_count": 22,
   "id": "c2cb99e6",
   "metadata": {},
   "outputs": [
    {
     "data": {
      "image/png": "[encoded data removed]",
      "text/plain": [
       "<Figure size 600x600 with 1 Axes>"
      ]
     },
     "metadata": {},
     "output_type": "display_data"
    }
   ],
   "source": [
    "fpr, tpr, thres = roc_curve(y_test, preds)\n",
    "roc_auc = auc(fpr, tpr)\n",
    "\n",
    "def _plot_roc_curve(fpr, tpr, roc_auc):\n",
    "    plt.figure(figsize=(6, 6))\n",
    "    plt.plot(fpr, tpr, color='darkorange', lw=2, linestyle='-', label='ROC curve (area = %0.2f)' % roc_auc)\n",
    "    plt.plot([0, 1], [0, 1], '--')\n",
    "    plt.axis([0, 1, 0, 1])\n",
    "    plt.xlabel('False Positive Rate')\n",
    "    plt.ylabel('True Positive Rate')\n",
    "    plt.legend(loc='lower right')\n",
    "    plt.title('ROC Curve with AUC = {}'.format(roc_auc))\n",
    "\n",
    "_plot_roc_curve(fpr, tpr, roc_auc)"
   ]
  },
  {
   "cell_type": "code",
   "execution_count": 23,
   "id": "97603c59",
   "metadata": {},
   "outputs": [],
   "source": [
    "current_datetime = datetime.now().strftime('%y-%m-%d_%H-%M-%S')\n",
    "# Export y_test and preds to csv\n",
    "y_test_preds = pd.DataFrame({'y_test': y_test, 'preds': preds})\n",
    "y_test_preds.to_csv(f'../log/preds/{current_datetime}_predictions.csv', index=False)"
   ]
  },
  {
   "cell_type": "markdown",
   "id": "1355948c",
   "metadata": {},
   "source": [
    "## Predict on Submit Set"
   ]
  },
  {
   "cell_type": "code",
   "execution_count": 27,
   "id": "eccdd2f2",
   "metadata": {},
   "outputs": [],
   "source": [
    "submit_data = pd.read_csv('../data/cleaned_submit_data.csv')\n",
    "submit = submit_data.drop(['SK_ID_CURR'], axis=1)\n",
    "for col in cat_cols:\n",
    "    submit[col] = submit[col].astype('category')"
   ]
  },
  {
   "cell_type": "code",
   "execution_count": 31,
   "id": "79c9b13a",
   "metadata": {},
   "outputs": [],
   "source": [
    "preds_submits = np.zeros(len(submit))\n",
    "\n",
    "for model in models:\n",
    "    preds_submits += model.predict(submit) / len(models)\n",
    "\n",
    "# Create new test output with SK_ID_CURR on X set and [preds_submits]\n",
    "submit_output = pd.DataFrame({'SK_ID_CURR': submit_data['SK_ID_CURR'], 'TARGET': preds_submits})\n",
    "# Get the current datetime\n",
    "current_datetime = datetime.now().strftime('%y-%m-%d_%H-%M-%S')\n",
    "# Save the DataFrame to a CSV file with the generated filename\n",
    "submit_output.to_csv(f'../log/submits/{current_datetime}_submission.csv', index=False)"
   ]
  }
 ],
 "metadata": {
  "kernelspec": {
   "display_name": "venv",
   "language": "python",
   "name": "python3"
  },
  "language_info": {
   "codemirror_mode": {
    "name": "ipython",
    "version": 3
   },
   "file_extension": ".py",
   "mimetype": "text/x-python",
   "name": "python",
   "nbconvert_exporter": "python",
   "pygments_lexer": "ipython3",
   "version": "3.11.1"
  }
 },
 "nbformat": 4,
 "nbformat_minor": 5
}
