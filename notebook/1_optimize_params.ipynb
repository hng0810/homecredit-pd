{
 "cells": [
  {
   "cell_type": "code",
   "execution_count": 1,
   "id": "ba522128",
   "metadata": {},
   "outputs": [
    {
     "name": "stderr",
     "output_type": "stream",
     "text": [
      "c:\\Users\\HNg\\Desktop\\Researches\\202507_homecredit_pd\\venv\\Lib\\site-packages\\tqdm\\auto.py:21: TqdmWarning: IProgress not found. Please update jupyter and ipywidgets. See https://ipywidgets.readthedocs.io/en/stable/user_install.html\n",
      "  from .autonotebook import tqdm as notebook_tqdm\n"
     ]
    }
   ],
   "source": [
    "import numpy as np\n",
    "import pandas as pd\n",
    "import matplotlib as plt\n",
    "import seaborn as sns\n",
    "import optuna\n",
    "import lightgbm\n",
    "from sklearn.model_selection import KFold, train_test_split\n",
    "from sklearn.metrics import roc_auc_score\n",
    "\n",
    "import os\n",
    "import yaml\n",
    "import sys\n",
    "\n",
    "sys.path.append('../src')\n",
    "import utils.utils as utils\n",
    "\n",
    "!pip freeze > ../requirements.txt"
   ]
  },
  {
   "cell_type": "code",
   "execution_count": 2,
   "id": "d37615d0",
   "metadata": {},
   "outputs": [],
   "source": [
    "data = pd.read_csv('../data/cleaned_data.csv')"
   ]
  },
  {
   "cell_type": "code",
   "execution_count": 4,
   "id": "00c97740",
   "metadata": {},
   "outputs": [],
   "source": [
    "X = data.drop(['TARGET', 'SK_ID_CURR'], axis=1)\n",
    "y = data['TARGET']\n",
    "\n",
    "X_train, X_test, y_train, y_test = train_test_split(X, y, test_size=0.2, random_state=810)\n",
    "\n",
    "# Double check categorical cols\n",
    "cat_cols = [col for col in X.columns if X[col].dtype == 'object' or str(X[col].dtype) == 'category']\n",
    "for col in cat_cols:\n",
    "    X[col] = X[col].astype('category')"
   ]
  },
  {
   "cell_type": "code",
   "execution_count": null,
   "id": "11333893",
   "metadata": {},
   "outputs": [],
   "source": [
    "def objective(trial):\n",
    "    params = {\n",
    "        'objective': 'binary',\n",
    "        'metric': 'auc',\n",
    "        'boosting_type': 'gbdt',\n",
    "        'learning_rate': trial.suggest_float('learning_rate', 0.01, 0.3),\n",
    "        'num_leaves': trial.suggest_int('num_leaves', 20, 100),\n",
    "        'max_depth': trial.suggest_int('max_depth', 3, 12),\n",
    "        'min_child_samples': trial.suggest_int('min_child_samples', 10, 100),\n",
    "        'subsample': trial.suggest_float('subsample', 0.5, 1.0),\n",
    "        'colsample_bytree': trial.suggest_float('colsample_bytree', 0.5, 1.0),\n",
    "        'reg_alpha': trial.suggest_float('reg_alpha', 0.0, 5.0),\n",
    "        'reg_lambda': trial.suggest_float('reg_lambda', 0.0, 5.0),\n",
    "        'verbosity': -1,\n",
    "        'random_state': 42\n",
    "    }\n",
    "\n",
    "    # K-Fold\n",
    "    kf = KFold(n_splits=5, shuffle=True, random_state=810)\n",
    "    auc_scores = []\n",
    "\n",
    "    for train_idx, val_idx in kf.split(X_train, y_train):\n",
    "        X_train_kf, X_val = X_train.iloc[train_idx], X_train.iloc[val_idx]\n",
    "        y_train_kf, y_val = y_train.iloc[train_idx], y_train.iloc[val_idx]\n",
    "\n",
    "        train_data = lightgbm.Dataset(X_train_kf, label=y_train_kf, categorical_feature=cat_cols)\n",
    "        val_data = lightgbm.Dataset(X_val, label=y_val, reference=train_data)\n",
    "\n",
    "        model = lightgbm.train(\n",
    "            params,\n",
    "            train_data,\n",
    "            valid_sets=[val_data],\n",
    "            num_boost_round=1000,\n",
    "            callbacks=[\n",
    "                lightgbm.early_stopping(stopping_rounds=50)\n",
    "            ]\n",
    "        )\n",
    "\n",
    "        preds = model.predict(X_val)\n",
    "        auc = roc_auc_score(y_val, preds)\n",
    "        auc_scores.append(auc)\n",
    "    # return np.mean(auc_scores)"
   ]
  },
  {
   "cell_type": "code",
   "execution_count": null,
   "id": "7445628a",
   "metadata": {},
   "outputs": [
    {
     "name": "stderr",
     "output_type": "stream",
     "text": [
      "[I 2025-07-20 16:28:12,799] A new study created in memory with name: no-name-332148bb-d7d1-4fe8-9a53-6b7f6cf0d2a6\n"
     ]
    },
    {
     "name": "stdout",
     "output_type": "stream",
     "text": [
      "Training until validation scores don't improve for 50 rounds\n",
      "Early stopping, best iteration is:\n",
      "[223]\tvalid_0's auc: 0.775393\n",
      "Training until validation scores don't improve for 50 rounds\n",
      "Early stopping, best iteration is:\n",
      "[191]\tvalid_0's auc: 0.771365\n",
      "Training until validation scores don't improve for 50 rounds\n",
      "Early stopping, best iteration is:\n",
      "[229]\tvalid_0's auc: 0.770696\n",
      "Training until validation scores don't improve for 50 rounds\n",
      "Early stopping, best iteration is:\n",
      "[192]\tvalid_0's auc: 0.771969\n",
      "Training until validation scores don't improve for 50 rounds\n",
      "Early stopping, best iteration is:\n",
      "[168]\tvalid_0's auc: 0.772266\n"
     ]
    },
    {
     "name": "stderr",
     "output_type": "stream",
     "text": [
      "[I 2025-07-20 16:28:49,135] Trial 0 finished with value: 0.7723376943325464 and parameters: {'learning_rate': 0.21856769486173616, 'num_leaves': 93, 'max_depth': 4, 'min_child_samples': 22, 'subsample': 0.94185946168556, 'colsample_bytree': 0.7338199585439624, 'reg_alpha': 4.235584059867399, 'reg_lambda': 4.11120275038676}. Best is trial 0 with value: 0.7723376943325464.\n"
     ]
    },
    {
     "name": "stdout",
     "output_type": "stream",
     "text": [
      "Training until validation scores don't improve for 50 rounds\n",
      "Early stopping, best iteration is:\n",
      "[609]\tvalid_0's auc: 0.777426\n",
      "Training until validation scores don't improve for 50 rounds\n",
      "Early stopping, best iteration is:\n",
      "[558]\tvalid_0's auc: 0.774001\n",
      "Training until validation scores don't improve for 50 rounds\n",
      "Early stopping, best iteration is:\n",
      "[555]\tvalid_0's auc: 0.773583\n",
      "Training until validation scores don't improve for 50 rounds\n",
      "Early stopping, best iteration is:\n",
      "[456]\tvalid_0's auc: 0.773273\n",
      "Training until validation scores don't improve for 50 rounds\n",
      "Early stopping, best iteration is:\n",
      "[598]\tvalid_0's auc: 0.77457\n"
     ]
    },
    {
     "name": "stderr",
     "output_type": "stream",
     "text": [
      "[I 2025-07-20 16:30:32,701] Trial 1 finished with value: 0.7745704854258376 and parameters: {'learning_rate': 0.0918395326341712, 'num_leaves': 63, 'max_depth': 4, 'min_child_samples': 12, 'subsample': 0.5375048764847135, 'colsample_bytree': 0.5732817579410701, 'reg_alpha': 0.1531760957323558, 'reg_lambda': 4.4341877720074185}. Best is trial 1 with value: 0.7745704854258376.\n"
     ]
    },
    {
     "name": "stdout",
     "output_type": "stream",
     "text": [
      "Training until validation scores don't improve for 50 rounds\n",
      "Early stopping, best iteration is:\n",
      "[157]\tvalid_0's auc: 0.773367\n",
      "Training until validation scores don't improve for 50 rounds\n",
      "Early stopping, best iteration is:\n",
      "[118]\tvalid_0's auc: 0.771273\n",
      "Training until validation scores don't improve for 50 rounds\n",
      "Early stopping, best iteration is:\n",
      "[120]\tvalid_0's auc: 0.768271\n",
      "Training until validation scores don't improve for 50 rounds\n",
      "Early stopping, best iteration is:\n",
      "[151]\tvalid_0's auc: 0.771512\n",
      "Training until validation scores don't improve for 50 rounds\n",
      "Early stopping, best iteration is:\n",
      "[107]\tvalid_0's auc: 0.771212\n"
     ]
    },
    {
     "name": "stderr",
     "output_type": "stream",
     "text": [
      "[I 2025-07-20 16:31:19,467] Trial 2 finished with value: 0.7711269510934562 and parameters: {'learning_rate': 0.16102843005807274, 'num_leaves': 77, 'max_depth': 6, 'min_child_samples': 52, 'subsample': 0.5243028425338323, 'colsample_bytree': 0.850099883420576, 'reg_alpha': 4.6444801113743885, 'reg_lambda': 3.299610158358689}. Best is trial 1 with value: 0.7745704854258376.\n"
     ]
    },
    {
     "name": "stdout",
     "output_type": "stream",
     "text": [
      "Training until validation scores don't improve for 50 rounds\n",
      "Early stopping, best iteration is:\n",
      "[55]\tvalid_0's auc: 0.768946\n",
      "Training until validation scores don't improve for 50 rounds\n",
      "Early stopping, best iteration is:\n",
      "[67]\tvalid_0's auc: 0.766162\n",
      "Training until validation scores don't improve for 50 rounds\n",
      "Early stopping, best iteration is:\n",
      "[74]\tvalid_0's auc: 0.763163\n",
      "Training until validation scores don't improve for 50 rounds\n",
      "Early stopping, best iteration is:\n",
      "[46]\tvalid_0's auc: 0.766474\n",
      "Training until validation scores don't improve for 50 rounds\n",
      "Early stopping, best iteration is:\n",
      "[81]\tvalid_0's auc: 0.76743\n"
     ]
    },
    {
     "name": "stderr",
     "output_type": "stream",
     "text": [
      "[I 2025-07-20 16:31:57,329] Trial 3 finished with value: 0.7664351949103947 and parameters: {'learning_rate': 0.23320735277819246, 'num_leaves': 87, 'max_depth': 7, 'min_child_samples': 41, 'subsample': 0.896247729356304, 'colsample_bytree': 0.868320296491462, 'reg_alpha': 4.0305877753048485, 'reg_lambda': 4.304890034964685}. Best is trial 1 with value: 0.7745704854258376.\n"
     ]
    },
    {
     "name": "stdout",
     "output_type": "stream",
     "text": [
      "Training until validation scores don't improve for 50 rounds\n",
      "Early stopping, best iteration is:\n",
      "[82]\tvalid_0's auc: 0.770211\n",
      "Training until validation scores don't improve for 50 rounds\n",
      "Early stopping, best iteration is:\n",
      "[84]\tvalid_0's auc: 0.770567\n",
      "Training until validation scores don't improve for 50 rounds\n",
      "Early stopping, best iteration is:\n",
      "[95]\tvalid_0's auc: 0.766432\n",
      "Training until validation scores don't improve for 50 rounds\n",
      "Early stopping, best iteration is:\n",
      "[106]\tvalid_0's auc: 0.768479\n",
      "Training until validation scores don't improve for 50 rounds\n"
     ]
    },
    {
     "name": "stderr",
     "output_type": "stream",
     "text": [
      "[I 2025-07-20 16:32:35,960] Trial 4 finished with value: 0.7687242589324924 and parameters: {'learning_rate': 0.1806115225094624, 'num_leaves': 46, 'max_depth': 8, 'min_child_samples': 26, 'subsample': 0.6679360170982334, 'colsample_bytree': 0.8004898783212322, 'reg_alpha': 2.014967669547751, 'reg_lambda': 0.4789974761454824}. Best is trial 1 with value: 0.7745704854258376.\n"
     ]
    },
    {
     "name": "stdout",
     "output_type": "stream",
     "text": [
      "Early stopping, best iteration is:\n",
      "[144]\tvalid_0's auc: 0.767931\n",
      "Training until validation scores don't improve for 50 rounds\n",
      "Early stopping, best iteration is:\n",
      "[48]\tvalid_0's auc: 0.767363\n",
      "Training until validation scores don't improve for 50 rounds\n",
      "Early stopping, best iteration is:\n",
      "[43]\tvalid_0's auc: 0.765794\n",
      "Training until validation scores don't improve for 50 rounds\n",
      "Early stopping, best iteration is:\n",
      "[52]\tvalid_0's auc: 0.765967\n",
      "Training until validation scores don't improve for 50 rounds\n",
      "Early stopping, best iteration is:\n",
      "[72]\tvalid_0's auc: 0.767665\n",
      "Training until validation scores don't improve for 50 rounds\n"
     ]
    },
    {
     "name": "stderr",
     "output_type": "stream",
     "text": [
      "[I 2025-07-20 16:33:05,983] Trial 5 finished with value: 0.766828273693594 and parameters: {'learning_rate': 0.27817056314023714, 'num_leaves': 44, 'max_depth': 11, 'min_child_samples': 82, 'subsample': 0.7378131065050261, 'colsample_bytree': 0.6085939234080799, 'reg_alpha': 4.545236441931342, 'reg_lambda': 4.4475316232195645}. Best is trial 1 with value: 0.7745704854258376.\n"
     ]
    },
    {
     "name": "stdout",
     "output_type": "stream",
     "text": [
      "Early stopping, best iteration is:\n",
      "[69]\tvalid_0's auc: 0.767352\n",
      "Training until validation scores don't improve for 50 rounds\n",
      "Early stopping, best iteration is:\n",
      "[106]\tvalid_0's auc: 0.768909\n",
      "Training until validation scores don't improve for 50 rounds\n",
      "Early stopping, best iteration is:\n",
      "[81]\tvalid_0's auc: 0.766383\n",
      "Training until validation scores don't improve for 50 rounds\n",
      "Early stopping, best iteration is:\n",
      "[68]\tvalid_0's auc: 0.766634\n",
      "Training until validation scores don't improve for 50 rounds\n",
      "Early stopping, best iteration is:\n",
      "[84]\tvalid_0's auc: 0.767433\n",
      "Training until validation scores don't improve for 50 rounds\n"
     ]
    },
    {
     "name": "stderr",
     "output_type": "stream",
     "text": [
      "[I 2025-07-20 16:33:35,100] Trial 6 finished with value: 0.7675494333200266 and parameters: {'learning_rate': 0.2638675577843784, 'num_leaves': 80, 'max_depth': 5, 'min_child_samples': 95, 'subsample': 0.6344808150424789, 'colsample_bytree': 0.8730797324000655, 'reg_alpha': 0.274643701837331, 'reg_lambda': 2.989499477582511}. Best is trial 1 with value: 0.7745704854258376.\n"
     ]
    },
    {
     "name": "stdout",
     "output_type": "stream",
     "text": [
      "Early stopping, best iteration is:\n",
      "[121]\tvalid_0's auc: 0.768387\n",
      "Training until validation scores don't improve for 50 rounds\n",
      "Early stopping, best iteration is:\n",
      "[520]\tvalid_0's auc: 0.776383\n",
      "Training until validation scores don't improve for 50 rounds\n",
      "Early stopping, best iteration is:\n",
      "[417]\tvalid_0's auc: 0.773752\n",
      "Training until validation scores don't improve for 50 rounds\n",
      "Early stopping, best iteration is:\n",
      "[338]\tvalid_0's auc: 0.772088\n",
      "Training until validation scores don't improve for 50 rounds\n",
      "Early stopping, best iteration is:\n",
      "[349]\tvalid_0's auc: 0.77319\n",
      "Training until validation scores don't improve for 50 rounds\n",
      "Early stopping, best iteration is:\n",
      "[324]\tvalid_0's auc: 0.774436\n"
     ]
    },
    {
     "name": "stderr",
     "output_type": "stream",
     "text": [
      "[I 2025-07-20 16:34:56,333] Trial 7 finished with value: 0.7739696276786313 and parameters: {'learning_rate': 0.061332127163292276, 'num_leaves': 99, 'max_depth': 6, 'min_child_samples': 37, 'subsample': 0.9421715185510828, 'colsample_bytree': 0.6672825770097365, 'reg_alpha': 3.3210629182933467, 'reg_lambda': 3.655832760030343}. Best is trial 1 with value: 0.7745704854258376.\n"
     ]
    },
    {
     "name": "stdout",
     "output_type": "stream",
     "text": [
      "Training until validation scores don't improve for 50 rounds\n",
      "Early stopping, best iteration is:\n",
      "[251]\tvalid_0's auc: 0.773823\n",
      "Training until validation scores don't improve for 50 rounds\n",
      "Early stopping, best iteration is:\n",
      "[229]\tvalid_0's auc: 0.77112\n",
      "Training until validation scores don't improve for 50 rounds\n",
      "Early stopping, best iteration is:\n",
      "[197]\tvalid_0's auc: 0.770325\n",
      "Training until validation scores don't improve for 50 rounds\n",
      "Early stopping, best iteration is:\n",
      "[219]\tvalid_0's auc: 0.770711\n",
      "Training until validation scores don't improve for 50 rounds\n",
      "Early stopping, best iteration is:\n",
      "[235]\tvalid_0's auc: 0.771695\n"
     ]
    },
    {
     "name": "stderr",
     "output_type": "stream",
     "text": [
      "[I 2025-07-20 16:35:56,695] Trial 8 finished with value: 0.771534752927067 and parameters: {'learning_rate': 0.10197819293211388, 'num_leaves': 21, 'max_depth': 10, 'min_child_samples': 12, 'subsample': 0.6656236846241901, 'colsample_bytree': 0.5549778120458588, 'reg_alpha': 0.09099362635662356, 'reg_lambda': 0.9217877374318245}. Best is trial 1 with value: 0.7745704854258376.\n"
     ]
    },
    {
     "name": "stdout",
     "output_type": "stream",
     "text": [
      "Training until validation scores don't improve for 50 rounds\n",
      "Early stopping, best iteration is:\n",
      "[236]\tvalid_0's auc: 0.77387\n",
      "Training until validation scores don't improve for 50 rounds\n",
      "Early stopping, best iteration is:\n",
      "[219]\tvalid_0's auc: 0.772785\n",
      "Training until validation scores don't improve for 50 rounds\n",
      "Early stopping, best iteration is:\n",
      "[167]\tvalid_0's auc: 0.770118\n",
      "Training until validation scores don't improve for 50 rounds\n",
      "Early stopping, best iteration is:\n",
      "[203]\tvalid_0's auc: 0.771942\n",
      "Training until validation scores don't improve for 50 rounds\n",
      "Early stopping, best iteration is:\n",
      "[204]\tvalid_0's auc: 0.772576\n"
     ]
    },
    {
     "name": "stderr",
     "output_type": "stream",
     "text": [
      "[I 2025-07-20 16:36:50,569] Trial 9 finished with value: 0.7722580357892317 and parameters: {'learning_rate': 0.12541991859637597, 'num_leaves': 90, 'max_depth': 6, 'min_child_samples': 50, 'subsample': 0.8802992743734734, 'colsample_bytree': 0.5810079756057671, 'reg_alpha': 3.969005242907173, 'reg_lambda': 2.8037683521816064}. Best is trial 1 with value: 0.7745704854258376.\n"
     ]
    },
    {
     "name": "stdout",
     "output_type": "stream",
     "text": [
      "Training until validation scores don't improve for 50 rounds\n",
      "Did not meet early stopping. Best iteration is:\n",
      "[1000]\tvalid_0's auc: 0.762682\n",
      "Training until validation scores don't improve for 50 rounds\n",
      "Did not meet early stopping. Best iteration is:\n",
      "[1000]\tvalid_0's auc: 0.761861\n",
      "Training until validation scores don't improve for 50 rounds\n",
      "Did not meet early stopping. Best iteration is:\n",
      "[1000]\tvalid_0's auc: 0.760718\n",
      "Training until validation scores don't improve for 50 rounds\n",
      "Did not meet early stopping. Best iteration is:\n",
      "[1000]\tvalid_0's auc: 0.761739\n",
      "Training until validation scores don't improve for 50 rounds\n",
      "Did not meet early stopping. Best iteration is:\n",
      "[1000]\tvalid_0's auc: 0.761844\n"
     ]
    },
    {
     "name": "stderr",
     "output_type": "stream",
     "text": [
      "[I 2025-07-20 16:39:40,590] Trial 10 finished with value: 0.7617688333541957 and parameters: {'learning_rate': 0.010434296381646113, 'num_leaves': 63, 'max_depth': 3, 'min_child_samples': 73, 'subsample': 0.5026202545685866, 'colsample_bytree': 0.5044382788559234, 'reg_alpha': 1.3397102315438008, 'reg_lambda': 1.7176933404046002}. Best is trial 1 with value: 0.7745704854258376.\n"
     ]
    },
    {
     "name": "stdout",
     "output_type": "stream",
     "text": [
      "Training until validation scores don't improve for 50 rounds\n",
      "Did not meet early stopping. Best iteration is:\n",
      "[1000]\tvalid_0's auc: 0.77672\n",
      "Training until validation scores don't improve for 50 rounds\n",
      "Did not meet early stopping. Best iteration is:\n",
      "[994]\tvalid_0's auc: 0.774065\n",
      "Training until validation scores don't improve for 50 rounds\n",
      "Did not meet early stopping. Best iteration is:\n",
      "[990]\tvalid_0's auc: 0.772303\n",
      "Training until validation scores don't improve for 50 rounds\n",
      "Did not meet early stopping. Best iteration is:\n",
      "[984]\tvalid_0's auc: 0.773385\n",
      "Training until validation scores don't improve for 50 rounds\n",
      "Did not meet early stopping. Best iteration is:\n",
      "[1000]\tvalid_0's auc: 0.775912\n"
     ]
    },
    {
     "name": "stderr",
     "output_type": "stream",
     "text": [
      "[I 2025-07-20 16:41:17,000] Trial 11 finished with value: 0.7744772483157701 and parameters: {'learning_rate': 0.05499862358190519, 'num_leaves': 100, 'max_depth': 3, 'min_child_samples': 34, 'subsample': 0.8181976354618803, 'colsample_bytree': 0.6810186908447328, 'reg_alpha': 3.137428252408137, 'reg_lambda': 4.8916884055411405}. Best is trial 1 with value: 0.7745704854258376.\n"
     ]
    },
    {
     "name": "stdout",
     "output_type": "stream",
     "text": [
      "Training until validation scores don't improve for 50 rounds\n",
      "Did not meet early stopping. Best iteration is:\n",
      "[996]\tvalid_0's auc: 0.776813\n",
      "Training until validation scores don't improve for 50 rounds\n",
      "Did not meet early stopping. Best iteration is:\n",
      "[989]\tvalid_0's auc: 0.773809\n",
      "Training until validation scores don't improve for 50 rounds\n",
      "Did not meet early stopping. Best iteration is:\n",
      "[1000]\tvalid_0's auc: 0.772179\n",
      "Training until validation scores don't improve for 50 rounds\n",
      "Did not meet early stopping. Best iteration is:\n",
      "[1000]\tvalid_0's auc: 0.773746\n",
      "Training until validation scores don't improve for 50 rounds\n",
      "Did not meet early stopping. Best iteration is:\n",
      "[986]\tvalid_0's auc: 0.77558\n"
     ]
    },
    {
     "name": "stderr",
     "output_type": "stream",
     "text": [
      "[I 2025-07-20 16:42:52,237] Trial 12 finished with value: 0.7744256047335485 and parameters: {'learning_rate': 0.055192562606279263, 'num_leaves': 63, 'max_depth': 3, 'min_child_samples': 16, 'subsample': 0.8237016237420491, 'colsample_bytree': 0.6763749322270892, 'reg_alpha': 2.7976199248586724, 'reg_lambda': 4.841831543785214}. Best is trial 1 with value: 0.7745704854258376.\n"
     ]
    },
    {
     "name": "stdout",
     "output_type": "stream",
     "text": [
      "Training until validation scores don't improve for 50 rounds\n",
      "Early stopping, best iteration is:\n",
      "[694]\tvalid_0's auc: 0.777139\n",
      "Training until validation scores don't improve for 50 rounds\n",
      "Early stopping, best iteration is:\n",
      "[540]\tvalid_0's auc: 0.774813\n",
      "Training until validation scores don't improve for 50 rounds\n",
      "Early stopping, best iteration is:\n",
      "[472]\tvalid_0's auc: 0.772316\n",
      "Training until validation scores don't improve for 50 rounds\n",
      "Early stopping, best iteration is:\n",
      "[584]\tvalid_0's auc: 0.774144\n",
      "Training until validation scores don't improve for 50 rounds\n",
      "Early stopping, best iteration is:\n",
      "[649]\tvalid_0's auc: 0.774989\n"
     ]
    },
    {
     "name": "stderr",
     "output_type": "stream",
     "text": [
      "[I 2025-07-20 16:44:08,347] Trial 13 finished with value: 0.7746802265787703 and parameters: {'learning_rate': 0.08807099500752132, 'num_leaves': 20, 'max_depth': 4, 'min_child_samples': 32, 'subsample': 0.7736641111857283, 'colsample_bytree': 0.6711480979095543, 'reg_alpha': 1.3106162253077869, 'reg_lambda': 4.981087627545257}. Best is trial 13 with value: 0.7746802265787703.\n"
     ]
    },
    {
     "name": "stdout",
     "output_type": "stream",
     "text": [
      "Training until validation scores don't improve for 50 rounds\n",
      "Early stopping, best iteration is:\n",
      "[207]\tvalid_0's auc: 0.773467\n",
      "Training until validation scores don't improve for 50 rounds\n",
      "Early stopping, best iteration is:\n",
      "[272]\tvalid_0's auc: 0.773155\n",
      "Training until validation scores don't improve for 50 rounds\n",
      "Early stopping, best iteration is:\n",
      "[304]\tvalid_0's auc: 0.771495\n",
      "Training until validation scores don't improve for 50 rounds\n",
      "Early stopping, best iteration is:\n",
      "[251]\tvalid_0's auc: 0.771845\n",
      "Training until validation scores don't improve for 50 rounds\n",
      "Early stopping, best iteration is:\n",
      "[200]\tvalid_0's auc: 0.770629\n"
     ]
    },
    {
     "name": "stderr",
     "output_type": "stream",
     "text": [
      "[I 2025-07-20 16:45:09,171] Trial 14 finished with value: 0.7721183509963485 and parameters: {'learning_rate': 0.11449213734182923, 'num_leaves': 24, 'max_depth': 8, 'min_child_samples': 10, 'subsample': 0.5880362476346399, 'colsample_bytree': 0.9924945133679836, 'reg_alpha': 1.018635049113973, 'reg_lambda': 2.1566828077776634}. Best is trial 13 with value: 0.7746802265787703.\n"
     ]
    },
    {
     "name": "stdout",
     "output_type": "stream",
     "text": [
      "Training until validation scores don't improve for 50 rounds\n",
      "Early stopping, best iteration is:\n",
      "[401]\tvalid_0's auc: 0.777421\n",
      "Training until validation scores don't improve for 50 rounds\n",
      "Early stopping, best iteration is:\n",
      "[455]\tvalid_0's auc: 0.774261\n",
      "Training until validation scores don't improve for 50 rounds\n",
      "Early stopping, best iteration is:\n",
      "[356]\tvalid_0's auc: 0.773094\n",
      "Training until validation scores don't improve for 50 rounds\n",
      "Early stopping, best iteration is:\n",
      "[392]\tvalid_0's auc: 0.773193\n",
      "Training until validation scores don't improve for 50 rounds\n",
      "Early stopping, best iteration is:\n",
      "[451]\tvalid_0's auc: 0.774848\n"
     ]
    },
    {
     "name": "stderr",
     "output_type": "stream",
     "text": [
      "[I 2025-07-20 16:46:19,941] Trial 15 finished with value: 0.7745633286747099 and parameters: {'learning_rate': 0.08279802561917615, 'num_leaves': 44, 'max_depth': 5, 'min_child_samples': 64, 'subsample': 0.7535996937662479, 'colsample_bytree': 0.6244061180647158, 'reg_alpha': 0.9816662023756888, 'reg_lambda': 3.7848741884563846}. Best is trial 13 with value: 0.7746802265787703.\n"
     ]
    },
    {
     "name": "stdout",
     "output_type": "stream",
     "text": [
      "Training until validation scores don't improve for 50 rounds\n",
      "Did not meet early stopping. Best iteration is:\n",
      "[1000]\tvalid_0's auc: 0.771892\n",
      "Training until validation scores don't improve for 50 rounds\n",
      "Did not meet early stopping. Best iteration is:\n",
      "[1000]\tvalid_0's auc: 0.770337\n",
      "Training until validation scores don't improve for 50 rounds\n",
      "Did not meet early stopping. Best iteration is:\n",
      "[1000]\tvalid_0's auc: 0.768986\n",
      "Training until validation scores don't improve for 50 rounds\n",
      "Did not meet early stopping. Best iteration is:\n",
      "[1000]\tvalid_0's auc: 0.770162\n",
      "Training until validation scores don't improve for 50 rounds\n",
      "Did not meet early stopping. Best iteration is:\n",
      "[1000]\tvalid_0's auc: 0.770896\n"
     ]
    },
    {
     "name": "stderr",
     "output_type": "stream",
     "text": [
      "[I 2025-07-20 16:48:24,400] Trial 16 finished with value: 0.7704546605839449 and parameters: {'learning_rate': 0.017536077350866652, 'num_leaves': 54, 'max_depth': 4, 'min_child_samples': 28, 'subsample': 0.7466063370257866, 'colsample_bytree': 0.7532218105162904, 'reg_alpha': 1.7857786965277562, 'reg_lambda': 4.9539560011229815}. Best is trial 13 with value: 0.7746802265787703.\n"
     ]
    },
    {
     "name": "stdout",
     "output_type": "stream",
     "text": [
      "Training until validation scores don't improve for 50 rounds\n",
      "Early stopping, best iteration is:\n",
      "[212]\tvalid_0's auc: 0.773678\n",
      "Training until validation scores don't improve for 50 rounds\n",
      "Early stopping, best iteration is:\n",
      "[178]\tvalid_0's auc: 0.772683\n",
      "Training until validation scores don't improve for 50 rounds\n",
      "Early stopping, best iteration is:\n",
      "[133]\tvalid_0's auc: 0.769588\n",
      "Training until validation scores don't improve for 50 rounds\n",
      "Early stopping, best iteration is:\n",
      "[122]\tvalid_0's auc: 0.769664\n",
      "Training until validation scores don't improve for 50 rounds\n",
      "Early stopping, best iteration is:\n",
      "[209]\tvalid_0's auc: 0.77\n"
     ]
    },
    {
     "name": "stderr",
     "output_type": "stream",
     "text": [
      "[I 2025-07-20 16:49:08,947] Trial 17 finished with value: 0.7711225543432938 and parameters: {'learning_rate': 0.14391583724506032, 'num_leaves': 28, 'max_depth': 9, 'min_child_samples': 43, 'subsample': 0.5773988627580302, 'colsample_bytree': 0.5055467863719585, 'reg_alpha': 0.5310463332294363, 'reg_lambda': 1.8276024806498934}. Best is trial 13 with value: 0.7746802265787703.\n"
     ]
    },
    {
     "name": "stdout",
     "output_type": "stream",
     "text": [
      "Training until validation scores don't improve for 50 rounds\n",
      "Early stopping, best iteration is:\n",
      "[189]\tvalid_0's auc: 0.773366\n",
      "Training until validation scores don't improve for 50 rounds\n",
      "Early stopping, best iteration is:\n",
      "[210]\tvalid_0's auc: 0.771051\n",
      "Training until validation scores don't improve for 50 rounds\n",
      "Early stopping, best iteration is:\n",
      "[128]\tvalid_0's auc: 0.769757\n",
      "Training until validation scores don't improve for 50 rounds\n",
      "Early stopping, best iteration is:\n",
      "[147]\tvalid_0's auc: 0.770566\n",
      "Training until validation scores don't improve for 50 rounds\n",
      "Early stopping, best iteration is:\n",
      "[132]\tvalid_0's auc: 0.771418\n"
     ]
    },
    {
     "name": "stderr",
     "output_type": "stream",
     "text": [
      "[I 2025-07-20 16:49:49,465] Trial 18 finished with value: 0.7712318429409533 and parameters: {'learning_rate': 0.18110879577147593, 'num_leaves': 32, 'max_depth': 5, 'min_child_samples': 20, 'subsample': 0.8034639180250489, 'colsample_bytree': 0.7370366919902833, 'reg_alpha': 2.0829295017362, 'reg_lambda': 3.547828247749847}. Best is trial 13 with value: 0.7746802265787703.\n"
     ]
    },
    {
     "name": "stdout",
     "output_type": "stream",
     "text": [
      "Training until validation scores don't improve for 50 rounds\n",
      "Early stopping, best iteration is:\n",
      "[721]\tvalid_0's auc: 0.778103\n",
      "Training until validation scores don't improve for 50 rounds\n",
      "Early stopping, best iteration is:\n",
      "[579]\tvalid_0's auc: 0.774719\n",
      "Training until validation scores don't improve for 50 rounds\n",
      "Early stopping, best iteration is:\n",
      "[431]\tvalid_0's auc: 0.772801\n",
      "Training until validation scores don't improve for 50 rounds\n",
      "Early stopping, best iteration is:\n",
      "[518]\tvalid_0's auc: 0.773281\n",
      "Training until validation scores don't improve for 50 rounds\n",
      "Early stopping, best iteration is:\n",
      "[723]\tvalid_0's auc: 0.773562\n"
     ]
    },
    {
     "name": "stderr",
     "output_type": "stream",
     "text": [
      "[I 2025-07-20 16:51:33,731] Trial 19 finished with value: 0.7744931936834794 and parameters: {'learning_rate': 0.08477235738751464, 'num_leaves': 72, 'max_depth': 4, 'min_child_samples': 30, 'subsample': 0.7095436279098857, 'colsample_bytree': 0.5707278974277131, 'reg_alpha': 0.7950418631689765, 'reg_lambda': 4.3150837602272825}. Best is trial 13 with value: 0.7746802265787703.\n"
     ]
    },
    {
     "name": "stdout",
     "output_type": "stream",
     "text": [
      "Training until validation scores don't improve for 50 rounds\n",
      "Early stopping, best iteration is:\n",
      "[633]\tvalid_0's auc: 0.77761\n",
      "Training until validation scores don't improve for 50 rounds\n",
      "Early stopping, best iteration is:\n",
      "[755]\tvalid_0's auc: 0.775207\n",
      "Training until validation scores don't improve for 50 rounds\n",
      "Early stopping, best iteration is:\n",
      "[864]\tvalid_0's auc: 0.773758\n",
      "Training until validation scores don't improve for 50 rounds\n",
      "Early stopping, best iteration is:\n",
      "[404]\tvalid_0's auc: 0.77401\n",
      "Training until validation scores don't improve for 50 rounds\n",
      "Early stopping, best iteration is:\n",
      "[454]\tvalid_0's auc: 0.774732\n"
     ]
    },
    {
     "name": "stderr",
     "output_type": "stream",
     "text": [
      "[I 2025-07-20 16:53:32,625] Trial 20 finished with value: 0.7750634939190869 and parameters: {'learning_rate': 0.03989500447971761, 'num_leaves': 36, 'max_depth': 12, 'min_child_samples': 61, 'subsample': 0.9973403421975381, 'colsample_bytree': 0.638083428181279, 'reg_alpha': 1.4954646257933106, 'reg_lambda': 2.5937659399872306}. Best is trial 20 with value: 0.7750634939190869.\n"
     ]
    },
    {
     "name": "stdout",
     "output_type": "stream",
     "text": [
      "Training until validation scores don't improve for 50 rounds\n",
      "Early stopping, best iteration is:\n",
      "[625]\tvalid_0's auc: 0.776595\n",
      "Training until validation scores don't improve for 50 rounds\n",
      "Early stopping, best iteration is:\n",
      "[629]\tvalid_0's auc: 0.775636\n",
      "Training until validation scores don't improve for 50 rounds\n",
      "Early stopping, best iteration is:\n",
      "[571]\tvalid_0's auc: 0.773276\n",
      "Training until validation scores don't improve for 50 rounds\n",
      "Early stopping, best iteration is:\n",
      "[473]\tvalid_0's auc: 0.77327\n",
      "Training until validation scores don't improve for 50 rounds\n",
      "Early stopping, best iteration is:\n",
      "[591]\tvalid_0's auc: 0.774791\n"
     ]
    },
    {
     "name": "stderr",
     "output_type": "stream",
     "text": [
      "[I 2025-07-20 16:55:25,133] Trial 21 finished with value: 0.7747136115235307 and parameters: {'learning_rate': 0.03742930531555997, 'num_leaves': 35, 'max_depth': 12, 'min_child_samples': 64, 'subsample': 0.9784606978412096, 'colsample_bytree': 0.6433515488211693, 'reg_alpha': 1.4876753662481002, 'reg_lambda': 2.595303862929934}. Best is trial 20 with value: 0.7750634939190869.\n"
     ]
    },
    {
     "name": "stdout",
     "output_type": "stream",
     "text": [
      "Training until validation scores don't improve for 50 rounds\n",
      "Early stopping, best iteration is:\n",
      "[505]\tvalid_0's auc: 0.776232\n",
      "Training until validation scores don't improve for 50 rounds\n",
      "Early stopping, best iteration is:\n",
      "[659]\tvalid_0's auc: 0.775814\n",
      "Training until validation scores don't improve for 50 rounds\n",
      "Early stopping, best iteration is:\n",
      "[753]\tvalid_0's auc: 0.773867\n",
      "Training until validation scores don't improve for 50 rounds\n",
      "Early stopping, best iteration is:\n",
      "[696]\tvalid_0's auc: 0.774103\n",
      "Training until validation scores don't improve for 50 rounds\n",
      "Early stopping, best iteration is:\n",
      "[511]\tvalid_0's auc: 0.773931\n"
     ]
    },
    {
     "name": "stderr",
     "output_type": "stream",
     "text": [
      "[I 2025-07-20 16:57:30,851] Trial 22 finished with value: 0.774789506189731 and parameters: {'learning_rate': 0.034914337139369464, 'num_leaves': 34, 'max_depth': 12, 'min_child_samples': 65, 'subsample': 0.9963461575012966, 'colsample_bytree': 0.6323098340216601, 'reg_alpha': 1.4005696822648495, 'reg_lambda': 1.2665420165154893}. Best is trial 20 with value: 0.7750634939190869.\n"
     ]
    },
    {
     "name": "stdout",
     "output_type": "stream",
     "text": [
      "Training until validation scores don't improve for 50 rounds\n",
      "Early stopping, best iteration is:\n",
      "[912]\tvalid_0's auc: 0.777878\n",
      "Training until validation scores don't improve for 50 rounds\n",
      "Early stopping, best iteration is:\n",
      "[562]\tvalid_0's auc: 0.774992\n",
      "Training until validation scores don't improve for 50 rounds\n",
      "Early stopping, best iteration is:\n",
      "[415]\tvalid_0's auc: 0.772351\n",
      "Training until validation scores don't improve for 50 rounds\n",
      "Early stopping, best iteration is:\n",
      "[816]\tvalid_0's auc: 0.774678\n",
      "Training until validation scores don't improve for 50 rounds\n",
      "Early stopping, best iteration is:\n",
      "[663]\tvalid_0's auc: 0.774538\n"
     ]
    },
    {
     "name": "stderr",
     "output_type": "stream",
     "text": [
      "[I 2025-07-20 16:59:42,366] Trial 23 finished with value: 0.7748876331819192 and parameters: {'learning_rate': 0.03322566579760385, 'num_leaves': 35, 'max_depth': 12, 'min_child_samples': 62, 'subsample': 0.994027523812512, 'colsample_bytree': 0.6427784989003408, 'reg_alpha': 1.7742105978212437, 'reg_lambda': 1.3605697211431798}. Best is trial 20 with value: 0.7750634939190869.\n"
     ]
    },
    {
     "name": "stdout",
     "output_type": "stream",
     "text": [
      "Training until validation scores don't improve for 50 rounds\n",
      "Early stopping, best iteration is:\n",
      "[515]\tvalid_0's auc: 0.775646\n",
      "Training until validation scores don't improve for 50 rounds\n",
      "Early stopping, best iteration is:\n",
      "[653]\tvalid_0's auc: 0.774648\n",
      "Training until validation scores don't improve for 50 rounds\n",
      "Early stopping, best iteration is:\n",
      "[810]\tvalid_0's auc: 0.773825\n",
      "Training until validation scores don't improve for 50 rounds\n",
      "Early stopping, best iteration is:\n",
      "[802]\tvalid_0's auc: 0.774664\n",
      "Training until validation scores don't improve for 50 rounds\n",
      "Early stopping, best iteration is:\n",
      "[812]\tvalid_0's auc: 0.775295\n"
     ]
    },
    {
     "name": "stderr",
     "output_type": "stream",
     "text": [
      "[I 2025-07-20 17:02:03,874] Trial 24 finished with value: 0.7748156089502102 and parameters: {'learning_rate': 0.033411853340502694, 'num_leaves': 37, 'max_depth': 12, 'min_child_samples': 62, 'subsample': 0.9905242506586808, 'colsample_bytree': 0.6240046035649062, 'reg_alpha': 2.4516688015379615, 'reg_lambda': 1.3011833740815042}. Best is trial 20 with value: 0.7750634939190869.\n"
     ]
    },
    {
     "name": "stdout",
     "output_type": "stream",
     "text": [
      "Training until validation scores don't improve for 50 rounds\n",
      "Early stopping, best iteration is:\n",
      "[566]\tvalid_0's auc: 0.776738\n",
      "Training until validation scores don't improve for 50 rounds\n",
      "Early stopping, best iteration is:\n",
      "[486]\tvalid_0's auc: 0.774707\n",
      "Training until validation scores don't improve for 50 rounds\n",
      "Early stopping, best iteration is:\n",
      "[602]\tvalid_0's auc: 0.773176\n",
      "Training until validation scores don't improve for 50 rounds\n",
      "Early stopping, best iteration is:\n",
      "[435]\tvalid_0's auc: 0.773553\n",
      "Training until validation scores don't improve for 50 rounds\n",
      "Early stopping, best iteration is:\n",
      "[485]\tvalid_0's auc: 0.773638\n"
     ]
    },
    {
     "name": "stderr",
     "output_type": "stream",
     "text": [
      "[I 2025-07-20 17:04:16,922] Trial 25 finished with value: 0.7743625125802436 and parameters: {'learning_rate': 0.032627647036097863, 'num_leaves': 52, 'max_depth': 11, 'min_child_samples': 80, 'subsample': 0.8832800168910384, 'colsample_bytree': 0.707251155970415, 'reg_alpha': 2.422306321860461, 'reg_lambda': 0.009941488095710715}. Best is trial 20 with value: 0.7750634939190869.\n"
     ]
    },
    {
     "name": "stdout",
     "output_type": "stream",
     "text": [
      "Training until validation scores don't improve for 50 rounds\n",
      "Early stopping, best iteration is:\n",
      "[408]\tvalid_0's auc: 0.776177\n",
      "Training until validation scores don't improve for 50 rounds\n",
      "Early stopping, best iteration is:\n",
      "[320]\tvalid_0's auc: 0.774138\n",
      "Training until validation scores don't improve for 50 rounds\n",
      "Early stopping, best iteration is:\n",
      "[482]\tvalid_0's auc: 0.773322\n",
      "Training until validation scores don't improve for 50 rounds\n",
      "Early stopping, best iteration is:\n",
      "[306]\tvalid_0's auc: 0.773842\n",
      "Training until validation scores don't improve for 50 rounds\n",
      "Early stopping, best iteration is:\n",
      "[304]\tvalid_0's auc: 0.773497\n"
     ]
    },
    {
     "name": "stderr",
     "output_type": "stream",
     "text": [
      "[I 2025-07-20 17:05:47,154] Trial 26 finished with value: 0.7741953262931813 and parameters: {'learning_rate': 0.06004230601741817, 'num_leaves': 39, 'max_depth': 11, 'min_child_samples': 57, 'subsample': 0.9597420804792403, 'colsample_bytree': 0.776359391716279, 'reg_alpha': 2.7699661113983716, 'reg_lambda': 1.197043275004371}. Best is trial 20 with value: 0.7750634939190869.\n"
     ]
    },
    {
     "name": "stdout",
     "output_type": "stream",
     "text": [
      "Training until validation scores don't improve for 50 rounds\n",
      "Did not meet early stopping. Best iteration is:\n",
      "[999]\tvalid_0's auc: 0.777615\n",
      "Training until validation scores don't improve for 50 rounds\n",
      "Did not meet early stopping. Best iteration is:\n",
      "[998]\tvalid_0's auc: 0.775517\n",
      "Training until validation scores don't improve for 50 rounds\n",
      "Did not meet early stopping. Best iteration is:\n",
      "[983]\tvalid_0's auc: 0.7737\n",
      "Training until validation scores don't improve for 50 rounds\n",
      "Did not meet early stopping. Best iteration is:\n",
      "[998]\tvalid_0's auc: 0.774927\n",
      "Training until validation scores don't improve for 50 rounds\n",
      "Did not meet early stopping. Best iteration is:\n",
      "[1000]\tvalid_0's auc: 0.775901\n"
     ]
    },
    {
     "name": "stderr",
     "output_type": "stream",
     "text": [
      "[I 2025-07-20 17:09:50,876] Trial 27 finished with value: 0.7755319343232606 and parameters: {'learning_rate': 0.015623696975699715, 'num_leaves': 51, 'max_depth': 10, 'min_child_samples': 72, 'subsample': 0.9195509857832559, 'colsample_bytree': 0.547460031724486, 'reg_alpha': 2.2628683412386446, 'reg_lambda': 2.2087198162054733}. Best is trial 27 with value: 0.7755319343232606.\n"
     ]
    },
    {
     "name": "stdout",
     "output_type": "stream",
     "text": [
      "Training until validation scores don't improve for 50 rounds\n",
      "Did not meet early stopping. Best iteration is:\n",
      "[1000]\tvalid_0's auc: 0.775816\n",
      "Training until validation scores don't improve for 50 rounds\n",
      "Did not meet early stopping. Best iteration is:\n",
      "[1000]\tvalid_0's auc: 0.774001\n",
      "Training until validation scores don't improve for 50 rounds\n",
      "Did not meet early stopping. Best iteration is:\n",
      "[999]\tvalid_0's auc: 0.772588\n",
      "Training until validation scores don't improve for 50 rounds\n",
      "Did not meet early stopping. Best iteration is:\n",
      "[999]\tvalid_0's auc: 0.773785\n",
      "Training until validation scores don't improve for 50 rounds\n",
      "Did not meet early stopping. Best iteration is:\n",
      "[1000]\tvalid_0's auc: 0.773913\n"
     ]
    },
    {
     "name": "stderr",
     "output_type": "stream",
     "text": [
      "[I 2025-07-20 17:14:01,924] Trial 28 finished with value: 0.7740207385765904 and parameters: {'learning_rate': 0.010478944050299512, 'num_leaves': 52, 'max_depth': 10, 'min_child_samples': 77, 'subsample': 0.9088006223233555, 'colsample_bytree': 0.5370290955423911, 'reg_alpha': 1.8033855326438348, 'reg_lambda': 2.3169593847462258}. Best is trial 27 with value: 0.7755319343232606.\n"
     ]
    },
    {
     "name": "stdout",
     "output_type": "stream",
     "text": [
      "Training until validation scores don't improve for 50 rounds\n",
      "Early stopping, best iteration is:\n",
      "[417]\tvalid_0's auc: 0.776431\n",
      "Training until validation scores don't improve for 50 rounds\n",
      "Early stopping, best iteration is:\n",
      "[291]\tvalid_0's auc: 0.774365\n",
      "Training until validation scores don't improve for 50 rounds\n",
      "Early stopping, best iteration is:\n",
      "[396]\tvalid_0's auc: 0.772918\n",
      "Training until validation scores don't improve for 50 rounds\n",
      "Early stopping, best iteration is:\n",
      "[348]\tvalid_0's auc: 0.773171\n",
      "Training until validation scores don't improve for 50 rounds\n",
      "Early stopping, best iteration is:\n",
      "[390]\tvalid_0's auc: 0.774453\n"
     ]
    },
    {
     "name": "stderr",
     "output_type": "stream",
     "text": [
      "[I 2025-07-20 17:15:12,576] Trial 29 finished with value: 0.7742673701396132 and parameters: {'learning_rate': 0.06700686714031726, 'num_leaves': 28, 'max_depth': 10, 'min_child_samples': 88, 'subsample': 0.9214674014374323, 'colsample_bytree': 0.5998977938184185, 'reg_alpha': 3.395580339234985, 'reg_lambda': 1.9079831467553117}. Best is trial 27 with value: 0.7755319343232606.\n"
     ]
    },
    {
     "name": "stdout",
     "output_type": "stream",
     "text": [
      "Training until validation scores don't improve for 50 rounds\n",
      "Early stopping, best iteration is:\n",
      "[124]\tvalid_0's auc: 0.773448\n",
      "Training until validation scores don't improve for 50 rounds\n",
      "Early stopping, best iteration is:\n",
      "[166]\tvalid_0's auc: 0.771516\n",
      "Training until validation scores don't improve for 50 rounds\n",
      "Early stopping, best iteration is:\n",
      "[139]\tvalid_0's auc: 0.768766\n",
      "Training until validation scores don't improve for 50 rounds\n",
      "Early stopping, best iteration is:\n",
      "[151]\tvalid_0's auc: 0.771202\n",
      "Training until validation scores don't improve for 50 rounds\n",
      "Early stopping, best iteration is:\n",
      "[119]\tvalid_0's auc: 0.770288\n"
     ]
    },
    {
     "name": "stderr",
     "output_type": "stream",
     "text": [
      "[I 2025-07-20 17:16:03,449] Trial 30 finished with value: 0.771044146331924 and parameters: {'learning_rate': 0.13273004808993835, 'num_leaves': 58, 'max_depth': 9, 'min_child_samples': 71, 'subsample': 0.8587806453203648, 'colsample_bytree': 0.536794400152828, 'reg_alpha': 2.202502609447408, 'reg_lambda': 1.5822691602870784}. Best is trial 27 with value: 0.7755319343232606.\n"
     ]
    },
    {
     "name": "stdout",
     "output_type": "stream",
     "text": [
      "Training until validation scores don't improve for 50 rounds\n",
      "Early stopping, best iteration is:\n",
      "[764]\tvalid_0's auc: 0.77744\n",
      "Training until validation scores don't improve for 50 rounds\n",
      "Early stopping, best iteration is:\n",
      "[558]\tvalid_0's auc: 0.775139\n",
      "Training until validation scores don't improve for 50 rounds\n",
      "Early stopping, best iteration is:\n",
      "[613]\tvalid_0's auc: 0.77353\n",
      "Training until validation scores don't improve for 50 rounds\n",
      "Early stopping, best iteration is:\n",
      "[714]\tvalid_0's auc: 0.774166\n",
      "Training until validation scores don't improve for 50 rounds\n",
      "Early stopping, best iteration is:\n",
      "[397]\tvalid_0's auc: 0.773845\n"
     ]
    },
    {
     "name": "stderr",
     "output_type": "stream",
     "text": [
      "[I 2025-07-20 17:18:11,891] Trial 31 finished with value: 0.7748239657259595 and parameters: {'learning_rate': 0.03510016817681258, 'num_leaves': 42, 'max_depth': 12, 'min_child_samples': 56, 'subsample': 0.9953354012473479, 'colsample_bytree': 0.715477596587539, 'reg_alpha': 2.613112255586886, 'reg_lambda': 0.7942098176915022}. Best is trial 27 with value: 0.7755319343232606.\n"
     ]
    },
    {
     "name": "stdout",
     "output_type": "stream",
     "text": [
      "Training until validation scores don't improve for 50 rounds\n",
      "Early stopping, best iteration is:\n",
      "[607]\tvalid_0's auc: 0.777414\n",
      "Training until validation scores don't improve for 50 rounds\n",
      "Early stopping, best iteration is:\n",
      "[471]\tvalid_0's auc: 0.775504\n",
      "Training until validation scores don't improve for 50 rounds\n",
      "Early stopping, best iteration is:\n",
      "[466]\tvalid_0's auc: 0.772761\n",
      "Training until validation scores don't improve for 50 rounds\n",
      "Early stopping, best iteration is:\n",
      "[543]\tvalid_0's auc: 0.77349\n",
      "Training until validation scores don't improve for 50 rounds\n",
      "Early stopping, best iteration is:\n",
      "[510]\tvalid_0's auc: 0.774032\n"
     ]
    },
    {
     "name": "stderr",
     "output_type": "stream",
     "text": [
      "[I 2025-07-20 17:19:56,621] Trial 32 finished with value: 0.7746400599180299 and parameters: {'learning_rate': 0.04378243395874876, 'num_leaves': 41, 'max_depth': 12, 'min_child_samples': 56, 'subsample': 0.9512149584355117, 'colsample_bytree': 0.7038777367631475, 'reg_alpha': 2.8612362190569245, 'reg_lambda': 0.6005986186915985}. Best is trial 27 with value: 0.7755319343232606.\n"
     ]
    },
    {
     "name": "stdout",
     "output_type": "stream",
     "text": [
      "Training until validation scores don't improve for 50 rounds\n",
      "Early stopping, best iteration is:\n",
      "[782]\tvalid_0's auc: 0.777718\n",
      "Training until validation scores don't improve for 50 rounds\n",
      "Did not meet early stopping. Best iteration is:\n",
      "[985]\tvalid_0's auc: 0.776215\n",
      "Training until validation scores don't improve for 50 rounds\n",
      "Early stopping, best iteration is:\n",
      "[851]\tvalid_0's auc: 0.773637\n",
      "Training until validation scores don't improve for 50 rounds\n",
      "Early stopping, best iteration is:\n",
      "[727]\tvalid_0's auc: 0.774492\n",
      "Training until validation scores don't improve for 50 rounds\n",
      "Early stopping, best iteration is:\n",
      "[844]\tvalid_0's auc: 0.774743\n"
     ]
    },
    {
     "name": "stderr",
     "output_type": "stream",
     "text": [
      "[I 2025-07-20 17:22:52,512] Trial 33 finished with value: 0.7753610367675982 and parameters: {'learning_rate': 0.024990714042005743, 'num_leaves': 47, 'max_depth': 11, 'min_child_samples': 50, 'subsample': 0.9674816332481699, 'colsample_bytree': 0.7055383483308449, 'reg_alpha': 1.6848085758611915, 'reg_lambda': 0.8604692570286873}. Best is trial 27 with value: 0.7755319343232606.\n"
     ]
    },
    {
     "name": "stdout",
     "output_type": "stream",
     "text": [
      "Training until validation scores don't improve for 50 rounds\n",
      "Early stopping, best iteration is:\n",
      "[258]\tvalid_0's auc: 0.773793\n",
      "Training until validation scores don't improve for 50 rounds\n",
      "Early stopping, best iteration is:\n",
      "[245]\tvalid_0's auc: 0.774192\n",
      "Training until validation scores don't improve for 50 rounds\n",
      "Early stopping, best iteration is:\n",
      "[258]\tvalid_0's auc: 0.773245\n",
      "Training until validation scores don't improve for 50 rounds\n",
      "Early stopping, best iteration is:\n",
      "[163]\tvalid_0's auc: 0.772007\n",
      "Training until validation scores don't improve for 50 rounds\n",
      "Early stopping, best iteration is:\n",
      "[179]\tvalid_0's auc: 0.772476\n"
     ]
    },
    {
     "name": "stderr",
     "output_type": "stream",
     "text": [
      "[I 2025-07-20 17:24:15,195] Trial 34 finished with value: 0.7731429148181734 and parameters: {'learning_rate': 0.07431525045354256, 'num_leaves': 48, 'max_depth': 11, 'min_child_samples': 47, 'subsample': 0.9280725562906456, 'colsample_bytree': 0.5967707388867888, 'reg_alpha': 1.7385637851804399, 'reg_lambda': 2.1916963406291545}. Best is trial 27 with value: 0.7755319343232606.\n"
     ]
    },
    {
     "name": "stdout",
     "output_type": "stream",
     "text": [
      "Training until validation scores don't improve for 50 rounds\n",
      "Early stopping, best iteration is:\n",
      "[777]\tvalid_0's auc: 0.776779\n",
      "Training until validation scores don't improve for 50 rounds\n",
      "Early stopping, best iteration is:\n",
      "[850]\tvalid_0's auc: 0.775862\n",
      "Training until validation scores don't improve for 50 rounds\n",
      "Early stopping, best iteration is:\n",
      "[857]\tvalid_0's auc: 0.773023\n",
      "Training until validation scores don't improve for 50 rounds\n",
      "Did not meet early stopping. Best iteration is:\n",
      "[973]\tvalid_0's auc: 0.773896\n",
      "Training until validation scores don't improve for 50 rounds\n",
      "Early stopping, best iteration is:\n",
      "[950]\tvalid_0's auc: 0.775366\n"
     ]
    },
    {
     "name": "stderr",
     "output_type": "stream",
     "text": [
      "[I 2025-07-20 17:30:16,401] Trial 35 finished with value: 0.774985157997482 and parameters: {'learning_rate': 0.021293082174061485, 'num_leaves': 49, 'max_depth': 11, 'min_child_samples': 69, 'subsample': 0.9596857981703852, 'colsample_bytree': 0.7949662779868742, 'reg_alpha': 1.6377189252512243, 'reg_lambda': 3.118963766394772}. Best is trial 27 with value: 0.7755319343232606.\n"
     ]
    },
    {
     "name": "stdout",
     "output_type": "stream",
     "text": [
      "Training until validation scores don't improve for 50 rounds\n",
      "Early stopping, best iteration is:\n",
      "[768]\tvalid_0's auc: 0.77771\n",
      "Training until validation scores don't improve for 50 rounds\n",
      "Did not meet early stopping. Best iteration is:\n",
      "[997]\tvalid_0's auc: 0.776217\n",
      "Training until validation scores don't improve for 50 rounds\n",
      "Early stopping, best iteration is:\n",
      "[940]\tvalid_0's auc: 0.773648\n",
      "Training until validation scores don't improve for 50 rounds\n",
      "Early stopping, best iteration is:\n",
      "[755]\tvalid_0's auc: 0.77502\n",
      "Training until validation scores don't improve for 50 rounds\n",
      "Early stopping, best iteration is:\n",
      "[845]\tvalid_0's auc: 0.77492\n"
     ]
    },
    {
     "name": "stderr",
     "output_type": "stream",
     "text": [
      "[I 2025-07-20 17:36:21,745] Trial 36 finished with value: 0.775502778108855 and parameters: {'learning_rate': 0.020809927214194363, 'num_leaves': 70, 'max_depth': 9, 'min_child_samples': 87, 'subsample': 0.845316743926755, 'colsample_bytree': 0.8211659789580424, 'reg_alpha': 2.2314843754184874, 'reg_lambda': 3.166186938887338}. Best is trial 27 with value: 0.7755319343232606.\n"
     ]
    },
    {
     "name": "stdout",
     "output_type": "stream",
     "text": [
      "Training until validation scores don't improve for 50 rounds\n",
      "Early stopping, best iteration is:\n",
      "[49]\tvalid_0's auc: 0.768104\n",
      "Training until validation scores don't improve for 50 rounds\n",
      "Early stopping, best iteration is:\n",
      "[58]\tvalid_0's auc: 0.76707\n",
      "Training until validation scores don't improve for 50 rounds\n",
      "Early stopping, best iteration is:\n",
      "[43]\tvalid_0's auc: 0.76336\n",
      "Training until validation scores don't improve for 50 rounds\n",
      "Early stopping, best iteration is:\n",
      "[49]\tvalid_0's auc: 0.766879\n",
      "Training until validation scores don't improve for 50 rounds\n",
      "Early stopping, best iteration is:\n",
      "[44]\tvalid_0's auc: 0.767856\n"
     ]
    },
    {
     "name": "stderr",
     "output_type": "stream",
     "text": [
      "[I 2025-07-20 17:37:13,256] Trial 37 finished with value: 0.7666538863573218 and parameters: {'learning_rate': 0.21093430806914185, 'num_leaves': 73, 'max_depth': 9, 'min_child_samples': 87, 'subsample': 0.8447791427421167, 'colsample_bytree': 0.837784108241879, 'reg_alpha': 2.217700835656749, 'reg_lambda': 3.362774135655231}. Best is trial 27 with value: 0.7755319343232606.\n"
     ]
    },
    {
     "name": "stdout",
     "output_type": "stream",
     "text": [
      "Training until validation scores don't improve for 50 rounds\n",
      "Early stopping, best iteration is:\n",
      "[164]\tvalid_0's auc: 0.775444\n",
      "Training until validation scores don't improve for 50 rounds\n",
      "Early stopping, best iteration is:\n",
      "[140]\tvalid_0's auc: 0.773039\n",
      "Training until validation scores don't improve for 50 rounds\n",
      "Early stopping, best iteration is:\n",
      "[110]\tvalid_0's auc: 0.770653\n",
      "Training until validation scores don't improve for 50 rounds\n",
      "Early stopping, best iteration is:\n",
      "[136]\tvalid_0's auc: 0.772367\n",
      "Training until validation scores don't improve for 50 rounds\n",
      "Early stopping, best iteration is:\n",
      "[148]\tvalid_0's auc: 0.771895\n"
     ]
    },
    {
     "name": "stderr",
     "output_type": "stream",
     "text": [
      "[I 2025-07-20 17:38:50,272] Trial 38 finished with value: 0.7726796852879587 and parameters: {'learning_rate': 0.1025536596736312, 'num_leaves': 70, 'max_depth': 10, 'min_child_samples': 100, 'subsample': 0.9007572969758912, 'colsample_bytree': 0.9174580010187525, 'reg_alpha': 4.980077632149449, 'reg_lambda': 2.5254943762823125}. Best is trial 27 with value: 0.7755319343232606.\n"
     ]
    },
    {
     "name": "stdout",
     "output_type": "stream",
     "text": [
      "Training until validation scores don't improve for 50 rounds\n",
      "Early stopping, best iteration is:\n",
      "[390]\tvalid_0's auc: 0.776609\n",
      "Training until validation scores don't improve for 50 rounds\n",
      "Early stopping, best iteration is:\n",
      "[408]\tvalid_0's auc: 0.774355\n",
      "Training until validation scores don't improve for 50 rounds\n",
      "Early stopping, best iteration is:\n",
      "[304]\tvalid_0's auc: 0.771772\n",
      "Training until validation scores don't improve for 50 rounds\n",
      "Early stopping, best iteration is:\n",
      "[386]\tvalid_0's auc: 0.772873\n",
      "Training until validation scores don't improve for 50 rounds\n",
      "Early stopping, best iteration is:\n",
      "[329]\tvalid_0's auc: 0.772865\n"
     ]
    },
    {
     "name": "stderr",
     "output_type": "stream",
     "text": [
      "[I 2025-07-20 17:41:35,361] Trial 39 finished with value: 0.7736945696963514 and parameters: {'learning_rate': 0.04897399192554834, 'num_leaves': 83, 'max_depth': 8, 'min_child_samples': 87, 'subsample': 0.8478794921435214, 'colsample_bytree': 0.7707728094750281, 'reg_alpha': 1.0887802937432138, 'reg_lambda': 2.8198907160606845}. Best is trial 27 with value: 0.7755319343232606.\n"
     ]
    },
    {
     "name": "stdout",
     "output_type": "stream",
     "text": [
      "Training until validation scores don't improve for 50 rounds\n",
      "Early stopping, best iteration is:\n",
      "[778]\tvalid_0's auc: 0.776709\n",
      "Training until validation scores don't improve for 50 rounds\n",
      "Early stopping, best iteration is:\n",
      "[805]\tvalid_0's auc: 0.77537\n",
      "Training until validation scores don't improve for 50 rounds\n",
      "Early stopping, best iteration is:\n",
      "[664]\tvalid_0's auc: 0.773654\n",
      "Training until validation scores don't improve for 50 rounds\n",
      "Early stopping, best iteration is:\n",
      "[728]\tvalid_0's auc: 0.774432\n",
      "Training until validation scores don't improve for 50 rounds\n",
      "Early stopping, best iteration is:\n",
      "[848]\tvalid_0's auc: 0.774515\n"
     ]
    },
    {
     "name": "stderr",
     "output_type": "stream",
     "text": [
      "[I 2025-07-20 17:46:50,053] Trial 40 finished with value: 0.7749361762148893 and parameters: {'learning_rate': 0.02211673560577801, 'num_leaves': 66, 'max_depth': 9, 'min_child_samples': 76, 'subsample': 0.9310130811017654, 'colsample_bytree': 0.8163462876903879, 'reg_alpha': 0.6282825465422378, 'reg_lambda': 3.9414065404594187}. Best is trial 27 with value: 0.7755319343232606.\n"
     ]
    },
    {
     "name": "stdout",
     "output_type": "stream",
     "text": [
      "Training until validation scores don't improve for 50 rounds\n",
      "Early stopping, best iteration is:\n",
      "[565]\tvalid_0's auc: 0.776411\n",
      "Training until validation scores don't improve for 50 rounds\n",
      "Early stopping, best iteration is:\n",
      "[568]\tvalid_0's auc: 0.775139\n",
      "Training until validation scores don't improve for 50 rounds\n",
      "Early stopping, best iteration is:\n",
      "[776]\tvalid_0's auc: 0.7733\n",
      "Training until validation scores don't improve for 50 rounds\n",
      "Early stopping, best iteration is:\n",
      "[729]\tvalid_0's auc: 0.774113\n",
      "Training until validation scores don't improve for 50 rounds\n",
      "Early stopping, best iteration is:\n",
      "[517]\tvalid_0's auc: 0.773821\n"
     ]
    },
    {
     "name": "stderr",
     "output_type": "stream",
     "text": [
      "[I 2025-07-20 17:51:44,616] Trial 41 finished with value: 0.774556688470806 and parameters: {'learning_rate': 0.024916473914754517, 'num_leaves': 57, 'max_depth': 11, 'min_child_samples': 69, 'subsample': 0.9533957763282054, 'colsample_bytree': 0.9066398893473534, 'reg_alpha': 1.5808851112906777, 'reg_lambda': 3.1616755330770494}. Best is trial 27 with value: 0.7755319343232606.\n"
     ]
    },
    {
     "name": "stdout",
     "output_type": "stream",
     "text": [
      "Training until validation scores don't improve for 50 rounds\n",
      "Did not meet early stopping. Best iteration is:\n",
      "[989]\tvalid_0's auc: 0.77727\n",
      "Training until validation scores don't improve for 50 rounds\n",
      "Did not meet early stopping. Best iteration is:\n",
      "[970]\tvalid_0's auc: 0.775405\n",
      "Training until validation scores don't improve for 50 rounds\n",
      "Early stopping, best iteration is:\n",
      "[854]\tvalid_0's auc: 0.773637\n",
      "Training until validation scores don't improve for 50 rounds\n",
      "Early stopping, best iteration is:\n",
      "[797]\tvalid_0's auc: 0.774294\n",
      "Training until validation scores don't improve for 50 rounds\n",
      "Did not meet early stopping. Best iteration is:\n",
      "[978]\tvalid_0's auc: 0.77529\n"
     ]
    },
    {
     "name": "stderr",
     "output_type": "stream",
     "text": [
      "[I 2025-07-20 17:57:06,792] Trial 42 finished with value: 0.7751793308725003 and parameters: {'learning_rate': 0.019405539182717212, 'num_leaves': 48, 'max_depth': 11, 'min_child_samples': 52, 'subsample': 0.962662068570745, 'colsample_bytree': 0.7977042817364998, 'reg_alpha': 1.994259284929026, 'reg_lambda': 2.9843824686355944}. Best is trial 27 with value: 0.7755319343232606.\n"
     ]
    },
    {
     "name": "stdout",
     "output_type": "stream",
     "text": [
      "Training until validation scores don't improve for 50 rounds\n",
      "Did not meet early stopping. Best iteration is:\n",
      "[1000]\tvalid_0's auc: 0.775512\n",
      "Training until validation scores don't improve for 50 rounds\n",
      "Did not meet early stopping. Best iteration is:\n",
      "[1000]\tvalid_0's auc: 0.774189\n",
      "Training until validation scores don't improve for 50 rounds\n",
      "Did not meet early stopping. Best iteration is:\n",
      "[1000]\tvalid_0's auc: 0.772199\n",
      "Training until validation scores don't improve for 50 rounds\n",
      "Did not meet early stopping. Best iteration is:\n",
      "[1000]\tvalid_0's auc: 0.772788\n",
      "Training until validation scores don't improve for 50 rounds\n",
      "Did not meet early stopping. Best iteration is:\n",
      "[998]\tvalid_0's auc: 0.773285\n"
     ]
    },
    {
     "name": "stderr",
     "output_type": "stream",
     "text": [
      "[I 2025-07-20 18:03:24,897] Trial 43 finished with value: 0.7735948472052238 and parameters: {'learning_rate': 0.01043479355462719, 'num_leaves': 45, 'max_depth': 10, 'min_child_samples': 48, 'subsample': 0.8741031855151102, 'colsample_bytree': 0.8306827873018648, 'reg_alpha': 1.9637841893167147, 'reg_lambda': 2.827584699444586}. Best is trial 27 with value: 0.7755319343232606.\n"
     ]
    },
    {
     "name": "stdout",
     "output_type": "stream",
     "text": [
      "Training until validation scores don't improve for 50 rounds\n",
      "Early stopping, best iteration is:\n",
      "[474]\tvalid_0's auc: 0.777366\n",
      "Training until validation scores don't improve for 50 rounds\n",
      "Early stopping, best iteration is:\n",
      "[411]\tvalid_0's auc: 0.774963\n",
      "Training until validation scores don't improve for 50 rounds\n",
      "Early stopping, best iteration is:\n",
      "[409]\tvalid_0's auc: 0.773021\n",
      "Training until validation scores don't improve for 50 rounds\n",
      "Early stopping, best iteration is:\n",
      "[347]\tvalid_0's auc: 0.77361\n",
      "Training until validation scores don't improve for 50 rounds\n",
      "Early stopping, best iteration is:\n",
      "[351]\tvalid_0's auc: 0.774131\n"
     ]
    },
    {
     "name": "stderr",
     "output_type": "stream",
     "text": [
      "[I 2025-07-20 18:05:50,473] Trial 44 finished with value: 0.7746180999711775 and parameters: {'learning_rate': 0.051207514796114365, 'num_leaves': 49, 'max_depth': 7, 'min_child_samples': 41, 'subsample': 0.9696608981774412, 'colsample_bytree': 0.8525788324278354, 'reg_alpha': 2.226705690541003, 'reg_lambda': 3.459033638656967}. Best is trial 27 with value: 0.7755319343232606.\n"
     ]
    },
    {
     "name": "stdout",
     "output_type": "stream",
     "text": [
      "Training until validation scores don't improve for 50 rounds\n",
      "Early stopping, best iteration is:\n",
      "[217]\tvalid_0's auc: 0.775515\n",
      "Training until validation scores don't improve for 50 rounds\n",
      "Early stopping, best iteration is:\n",
      "[204]\tvalid_0's auc: 0.773065\n",
      "Training until validation scores don't improve for 50 rounds\n",
      "Early stopping, best iteration is:\n",
      "[237]\tvalid_0's auc: 0.772472\n",
      "Training until validation scores don't improve for 50 rounds\n",
      "Early stopping, best iteration is:\n",
      "[166]\tvalid_0's auc: 0.770724\n",
      "Training until validation scores don't improve for 50 rounds\n",
      "Early stopping, best iteration is:\n",
      "[155]\tvalid_0's auc: 0.77232\n"
     ]
    },
    {
     "name": "stderr",
     "output_type": "stream",
     "text": [
      "[I 2025-07-20 18:07:27,078] Trial 45 finished with value: 0.7728191333595384 and parameters: {'learning_rate': 0.07541351792851322, 'num_leaves': 55, 'max_depth': 10, 'min_child_samples': 53, 'subsample': 0.9009628248371835, 'colsample_bytree': 0.8861412582857148, 'reg_alpha': 2.4110025462879205, 'reg_lambda': 0.021297038179824312}. Best is trial 27 with value: 0.7755319343232606.\n"
     ]
    },
    {
     "name": "stdout",
     "output_type": "stream",
     "text": [
      "Training until validation scores don't improve for 50 rounds\n",
      "Early stopping, best iteration is:\n",
      "[43]\tvalid_0's auc: 0.768314\n",
      "Training until validation scores don't improve for 50 rounds\n",
      "Early stopping, best iteration is:\n",
      "[50]\tvalid_0's auc: 0.767878\n",
      "Training until validation scores don't improve for 50 rounds\n",
      "Early stopping, best iteration is:\n",
      "[44]\tvalid_0's auc: 0.765367\n",
      "Training until validation scores don't improve for 50 rounds\n",
      "Early stopping, best iteration is:\n",
      "[42]\tvalid_0's auc: 0.766977\n",
      "Training until validation scores don't improve for 50 rounds\n",
      "Early stopping, best iteration is:\n",
      "[50]\tvalid_0's auc: 0.76654\n"
     ]
    },
    {
     "name": "stderr",
     "output_type": "stream",
     "text": [
      "[I 2025-07-20 18:08:11,357] Trial 46 finished with value: 0.7670153484034268 and parameters: {'learning_rate': 0.23809913438405259, 'num_leaves': 61, 'max_depth': 11, 'min_child_samples': 94, 'subsample': 0.9371564898658136, 'colsample_bytree': 0.8003535943747346, 'reg_alpha': 3.071685257482114, 'reg_lambda': 2.61459591629828}. Best is trial 27 with value: 0.7755319343232606.\n"
     ]
    },
    {
     "name": "stdout",
     "output_type": "stream",
     "text": [
      "Training until validation scores don't improve for 50 rounds\n",
      "Early stopping, best iteration is:\n",
      "[276]\tvalid_0's auc: 0.776836\n",
      "Training until validation scores don't improve for 50 rounds\n",
      "Early stopping, best iteration is:\n",
      "[238]\tvalid_0's auc: 0.774759\n",
      "Training until validation scores don't improve for 50 rounds\n",
      "Early stopping, best iteration is:\n",
      "[275]\tvalid_0's auc: 0.771865\n",
      "Training until validation scores don't improve for 50 rounds\n",
      "Early stopping, best iteration is:\n",
      "[178]\tvalid_0's auc: 0.772951\n",
      "Training until validation scores don't improve for 50 rounds\n",
      "Early stopping, best iteration is:\n",
      "[273]\tvalid_0's auc: 0.772644\n"
     ]
    },
    {
     "name": "stderr",
     "output_type": "stream",
     "text": [
      "[I 2025-07-20 18:10:10,117] Trial 47 finished with value: 0.773811019910488 and parameters: {'learning_rate': 0.06396003599543293, 'num_leaves': 68, 'max_depth': 10, 'min_child_samples': 59, 'subsample': 0.9165502260238114, 'colsample_bytree': 0.7323311997055609, 'reg_alpha': 1.2646656335830155, 'reg_lambda': 3.015833122916267}. Best is trial 27 with value: 0.7755319343232606.\n"
     ]
    },
    {
     "name": "stdout",
     "output_type": "stream",
     "text": [
      "Training until validation scores don't improve for 50 rounds\n",
      "Early stopping, best iteration is:\n",
      "[356]\tvalid_0's auc: 0.775332\n",
      "Training until validation scores don't improve for 50 rounds\n",
      "Early stopping, best iteration is:\n",
      "[350]\tvalid_0's auc: 0.773726\n",
      "Training until validation scores don't improve for 50 rounds\n",
      "Early stopping, best iteration is:\n",
      "[360]\tvalid_0's auc: 0.773407\n",
      "Training until validation scores don't improve for 50 rounds\n",
      "Early stopping, best iteration is:\n",
      "[356]\tvalid_0's auc: 0.773787\n",
      "Training until validation scores don't improve for 50 rounds\n",
      "Early stopping, best iteration is:\n",
      "[434]\tvalid_0's auc: 0.774094\n"
     ]
    },
    {
     "name": "stderr",
     "output_type": "stream",
     "text": [
      "[I 2025-07-20 18:12:58,863] Trial 48 finished with value: 0.7740692818446819 and parameters: {'learning_rate': 0.04519170467620538, 'num_leaves': 77, 'max_depth': 9, 'min_child_samples': 51, 'subsample': 0.9696747806735496, 'colsample_bytree': 0.7539301407795017, 'reg_alpha': 2.0054050205992477, 'reg_lambda': 2.062512322485692}. Best is trial 27 with value: 0.7755319343232606.\n"
     ]
    },
    {
     "name": "stdout",
     "output_type": "stream",
     "text": [
      "Training until validation scores don't improve for 50 rounds\n",
      "Early stopping, best iteration is:\n",
      "[108]\tvalid_0's auc: 0.77263\n",
      "Training until validation scores don't improve for 50 rounds\n",
      "Early stopping, best iteration is:\n",
      "[139]\tvalid_0's auc: 0.772572\n",
      "Training until validation scores don't improve for 50 rounds\n",
      "Early stopping, best iteration is:\n",
      "[85]\tvalid_0's auc: 0.767593\n",
      "Training until validation scores don't improve for 50 rounds\n",
      "Early stopping, best iteration is:\n",
      "[105]\tvalid_0's auc: 0.76996\n",
      "Training until validation scores don't improve for 50 rounds\n",
      "Early stopping, best iteration is:\n",
      "[96]\tvalid_0's auc: 0.771379\n"
     ]
    },
    {
     "name": "stderr",
     "output_type": "stream",
     "text": [
      "[I 2025-07-20 18:13:47,549] Trial 49 finished with value: 0.770826936683395 and parameters: {'learning_rate': 0.17639520311699755, 'num_leaves': 30, 'max_depth': 8, 'min_child_samples': 82, 'subsample': 0.7892272357267471, 'colsample_bytree': 0.6903755202836902, 'reg_alpha': 3.527094764409456, 'reg_lambda': 2.351588561318593}. Best is trial 27 with value: 0.7755319343232606.\n"
     ]
    }
   ],
   "source": [
    "study = optuna.create_study(direction='maximize')\n",
    "study.optimize(objective, n_trials=50)"
   ]
  },
  {
   "cell_type": "code",
   "execution_count": 51,
   "id": "71410131",
   "metadata": {},
   "outputs": [
    {
     "name": "stdout",
     "output_type": "stream",
     "text": [
      "Best AUC: 0.7755\n",
      "{'learning_rate': 0.015623696975699715, 'num_leaves': 51, 'max_depth': 10, 'min_child_samples': 72, 'subsample': 0.9195509857832559, 'colsample_bytree': 0.547460031724486, 'reg_alpha': 2.2628683412386446, 'reg_lambda': 2.2087198162054733}\n",
      "Dumped params\n"
     ]
    }
   ],
   "source": [
    "print(f'Best AUC: {study.best_value:.4f}')\n",
    "print(study.best_params)\n",
    "config_path = '../configs/model_config.yaml'\n",
    "with open(config_path, 'w') as file:\n",
    "    yaml.dump(study.best_params, file, default_flow_style=False)\n",
    "print('Dumped params')"
   ]
  }
 ],
 "metadata": {
  "kernelspec": {
   "display_name": "venv",
   "language": "python",
   "name": "python3"
  },
  "language_info": {
   "codemirror_mode": {
    "name": "ipython",
    "version": 3
   },
   "file_extension": ".py",
   "mimetype": "text/x-python",
   "name": "python",
   "nbconvert_exporter": "python",
   "pygments_lexer": "ipython3",
   "version": "3.11.1"
  }
 },
 "nbformat": 4,
 "nbformat_minor": 5
}
