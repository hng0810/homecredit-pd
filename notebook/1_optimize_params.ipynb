{
 "cells": [
  {
   "cell_type": "code",
   "execution_count": 1,
   "id": "ba522128",
   "metadata": {},
   "outputs": [
    {
     "name": "stderr",
     "output_type": "stream",
     "text": [
      "d:\\huynq1\\202507-homecredit-pd\\venv\\Lib\\site-packages\\tqdm\\auto.py:21: TqdmWarning: IProgress not found. Please update jupyter and ipywidgets. See https://ipywidgets.readthedocs.io/en/stable/user_install.html\n",
      "  from .autonotebook import tqdm as notebook_tqdm\n"
     ]
    }
   ],
   "source": [
    "import numpy as np\n",
    "import pandas as pd\n",
    "import matplotlib as plt\n",
    "import seaborn as sns\n",
    "import optuna\n",
    "import lightgbm\n",
    "from sklearn.model_selection import KFold, train_test_split\n",
    "from sklearn.metrics import roc_auc_score\n",
    "\n",
    "import os\n",
    "import yaml\n",
    "import sys\n",
    "\n",
    "sys.path.append('../src')\n",
    "import utils.utils as utils\n",
    "\n",
    "!pip freeze > ../requirements.txt"
   ]
  },
  {
   "cell_type": "code",
   "execution_count": 2,
   "id": "d37615d0",
   "metadata": {},
   "outputs": [],
   "source": [
    "train_set = pd.read_csv('../data/cleaned_train_data.csv')\n",
    "test_set = pd.read_csv('../data/cleaned_test_data.csv')"
   ]
  },
  {
   "cell_type": "code",
   "execution_count": 5,
   "id": "00c97740",
   "metadata": {},
   "outputs": [],
   "source": [
    "X_train = train_set.drop(['SK_ID_CURR', 'TARGET'], axis=1)\n",
    "y_train = train_set.TARGET\n",
    "X_test = test_set.drop(['SK_ID_CURR', 'TARGET'], axis=1)\n",
    "y_test = test_set.TARGET\n",
    "\n",
    "# Double check categorical cols\n",
    "cat_cols = [col for col in X_train.columns if X_train[col].dtype == 'object' or X_train[col].dtype == 'category']\n",
    "for col in cat_cols:\n",
    "    X_train[col] = X_train[col].astype('category')\n",
    "    X_test[col] = X_test[col].astype('category')"
   ]
  },
  {
   "cell_type": "code",
   "execution_count": 8,
   "id": "11333893",
   "metadata": {},
   "outputs": [],
   "source": [
    "def objective(trial):\n",
    "    params = {\n",
    "        'objective': 'binary',\n",
    "        'metric': 'auc',\n",
    "        'boosting_type': 'gbdt',\n",
    "        'learning_rate': trial.suggest_float('learning_rate', 0.01, 0.3),\n",
    "        'num_leaves': trial.suggest_int('num_leaves', 20, 100),\n",
    "        'max_depth': trial.suggest_int('max_depth', 3, 12),\n",
    "        'min_child_samples': trial.suggest_int('min_child_samples', 10, 100),\n",
    "        'subsample': trial.suggest_float('subsample', 0.5, 1.0),\n",
    "        'colsample_bytree': trial.suggest_float('colsample_bytree', 0.5, 1.0),\n",
    "        'reg_alpha': trial.suggest_float('reg_alpha', 0.0, 5.0),\n",
    "        'reg_lambda': trial.suggest_float('reg_lambda', 0.0, 5.0),\n",
    "        'verbosity': -1,\n",
    "        'random_state': 42\n",
    "    }\n",
    "\n",
    "    # K-Fold\n",
    "    kf = KFold(n_splits=5, shuffle=True, random_state=810)\n",
    "    auc_scores = []\n",
    "\n",
    "    for train_idx, val_idx in kf.split(X_train, y_train):\n",
    "        X_train_kf, X_val = X_train.iloc[train_idx], X_train.iloc[val_idx]\n",
    "        y_train_kf, y_val = y_train.iloc[train_idx], y_train.iloc[val_idx]\n",
    "\n",
    "        train_data = lightgbm.Dataset(X_train_kf, label=y_train_kf, categorical_feature=cat_cols)\n",
    "        val_data = lightgbm.Dataset(X_val, label=y_val, reference=train_data)\n",
    "\n",
    "        model = lightgbm.train(\n",
    "            params,\n",
    "            train_data,\n",
    "            valid_sets=[val_data],\n",
    "            num_boost_round=1000,\n",
    "            callbacks=[\n",
    "                lightgbm.early_stopping(stopping_rounds=50)\n",
    "            ]\n",
    "        )\n",
    "\n",
    "        preds = model.predict(X_val)\n",
    "        auc = roc_auc_score(y_val, preds)\n",
    "        auc_scores.append(auc)\n",
    "    return np.mean(auc_scores)"
   ]
  },
  {
   "cell_type": "code",
   "execution_count": 11,
   "id": "7445628a",
   "metadata": {},
   "outputs": [
    {
     "name": "stderr",
     "output_type": "stream",
     "text": [
      "[I 2025-07-22 12:30:09,825] A new study created in memory with name: no-name-df1889d9-0367-4ff9-a48d-5d3d94dadd1e\n"
     ]
    },
    {
     "name": "stdout",
     "output_type": "stream",
     "text": [
      "Training until validation scores don't improve for 50 rounds\n",
      "Did not meet early stopping. Best iteration is:\n",
      "[1000]\tvalid_0's auc: 0.767964\n",
      "Training until validation scores don't improve for 50 rounds\n",
      "Did not meet early stopping. Best iteration is:\n",
      "[1000]\tvalid_0's auc: 0.765636\n",
      "Training until validation scores don't improve for 50 rounds\n",
      "Did not meet early stopping. Best iteration is:\n",
      "[1000]\tvalid_0's auc: 0.777897\n",
      "Training until validation scores don't improve for 50 rounds\n",
      "Did not meet early stopping. Best iteration is:\n",
      "[1000]\tvalid_0's auc: 0.769222\n",
      "Training until validation scores don't improve for 50 rounds\n",
      "Did not meet early stopping. Best iteration is:\n",
      "[1000]\tvalid_0's auc: 0.771336\n"
     ]
    },
    {
     "name": "stderr",
     "output_type": "stream",
     "text": [
      "[I 2025-07-22 12:36:16,277] Trial 0 finished with value: 0.7704108502941287 and parameters: {'learning_rate': 0.010700081323484994, 'num_leaves': 25, 'max_depth': 12, 'min_child_samples': 55, 'subsample': 0.6647134992996024, 'colsample_bytree': 0.6830899163903577, 'reg_alpha': 4.783980657371293, 'reg_lambda': 1.4082825060734694}. Best is trial 0 with value: 0.7704108502941287.\n"
     ]
    },
    {
     "name": "stdout",
     "output_type": "stream",
     "text": [
      "Training until validation scores don't improve for 50 rounds\n",
      "Early stopping, best iteration is:\n",
      "[51]\tvalid_0's auc: 0.763527\n",
      "Training until validation scores don't improve for 50 rounds\n",
      "Early stopping, best iteration is:\n",
      "[69]\tvalid_0's auc: 0.760742\n",
      "Training until validation scores don't improve for 50 rounds\n",
      "Early stopping, best iteration is:\n",
      "[58]\tvalid_0's auc: 0.771928\n",
      "Training until validation scores don't improve for 50 rounds\n",
      "Early stopping, best iteration is:\n",
      "[56]\tvalid_0's auc: 0.762489\n",
      "Training until validation scores don't improve for 50 rounds\n",
      "Early stopping, best iteration is:\n",
      "[57]\tvalid_0's auc: 0.765152\n"
     ]
    },
    {
     "name": "stderr",
     "output_type": "stream",
     "text": [
      "[I 2025-07-22 12:37:15,973] Trial 1 finished with value: 0.7647676096805673 and parameters: {'learning_rate': 0.20685533836029116, 'num_leaves': 62, 'max_depth': 10, 'min_child_samples': 84, 'subsample': 0.7717793136210099, 'colsample_bytree': 0.7191099876905531, 'reg_alpha': 4.808599818270697, 'reg_lambda': 4.376241480157995}. Best is trial 0 with value: 0.7704108502941287.\n"
     ]
    },
    {
     "name": "stdout",
     "output_type": "stream",
     "text": [
      "Training until validation scores don't improve for 50 rounds\n",
      "Early stopping, best iteration is:\n",
      "[39]\tvalid_0's auc: 0.76173\n",
      "Training until validation scores don't improve for 50 rounds\n",
      "Early stopping, best iteration is:\n",
      "[68]\tvalid_0's auc: 0.759898\n",
      "Training until validation scores don't improve for 50 rounds\n",
      "Early stopping, best iteration is:\n",
      "[52]\tvalid_0's auc: 0.769931\n",
      "Training until validation scores don't improve for 50 rounds\n",
      "Early stopping, best iteration is:\n",
      "[55]\tvalid_0's auc: 0.762129\n",
      "Training until validation scores don't improve for 50 rounds\n",
      "Early stopping, best iteration is:\n",
      "[60]\tvalid_0's auc: 0.763821\n"
     ]
    },
    {
     "name": "stderr",
     "output_type": "stream",
     "text": [
      "[I 2025-07-22 12:38:08,141] Trial 2 finished with value: 0.7635016216445646 and parameters: {'learning_rate': 0.20062411061571678, 'num_leaves': 46, 'max_depth': 9, 'min_child_samples': 68, 'subsample': 0.5335465615383064, 'colsample_bytree': 0.5343104114014514, 'reg_alpha': 0.3647163514704438, 'reg_lambda': 1.6279107764379468}. Best is trial 0 with value: 0.7704108502941287.\n"
     ]
    },
    {
     "name": "stdout",
     "output_type": "stream",
     "text": [
      "Training until validation scores don't improve for 50 rounds\n",
      "Early stopping, best iteration is:\n",
      "[61]\tvalid_0's auc: 0.7623\n",
      "Training until validation scores don't improve for 50 rounds\n",
      "Early stopping, best iteration is:\n",
      "[83]\tvalid_0's auc: 0.759457\n",
      "Training until validation scores don't improve for 50 rounds\n",
      "Early stopping, best iteration is:\n",
      "[80]\tvalid_0's auc: 0.770125\n",
      "Training until validation scores don't improve for 50 rounds\n",
      "Early stopping, best iteration is:\n",
      "[81]\tvalid_0's auc: 0.763838\n",
      "Training until validation scores don't improve for 50 rounds\n"
     ]
    },
    {
     "name": "stderr",
     "output_type": "stream",
     "text": [
      "[I 2025-07-22 12:38:34,129] Trial 3 finished with value: 0.7646795139478131 and parameters: {'learning_rate': 0.27639944829960533, 'num_leaves': 78, 'max_depth': 5, 'min_child_samples': 37, 'subsample': 0.8430942609022363, 'colsample_bytree': 0.8383877786061364, 'reg_alpha': 3.243650996232019, 'reg_lambda': 2.8499114531903897}. Best is trial 0 with value: 0.7704108502941287.\n"
     ]
    },
    {
     "name": "stdout",
     "output_type": "stream",
     "text": [
      "Early stopping, best iteration is:\n",
      "[72]\tvalid_0's auc: 0.767677\n",
      "Training until validation scores don't improve for 50 rounds\n",
      "Early stopping, best iteration is:\n",
      "[286]\tvalid_0's auc: 0.768512\n",
      "Training until validation scores don't improve for 50 rounds\n",
      "Early stopping, best iteration is:\n",
      "[217]\tvalid_0's auc: 0.765591\n",
      "Training until validation scores don't improve for 50 rounds\n",
      "Early stopping, best iteration is:\n",
      "[225]\tvalid_0's auc: 0.779165\n",
      "Training until validation scores don't improve for 50 rounds\n",
      "Early stopping, best iteration is:\n",
      "[230]\tvalid_0's auc: 0.769223\n",
      "Training until validation scores don't improve for 50 rounds\n",
      "Early stopping, best iteration is:\n",
      "[271]\tvalid_0's auc: 0.771089\n"
     ]
    },
    {
     "name": "stderr",
     "output_type": "stream",
     "text": [
      "[I 2025-07-22 12:39:08,972] Trial 4 finished with value: 0.770715993128715 and parameters: {'learning_rate': 0.1111721165764106, 'num_leaves': 68, 'max_depth': 5, 'min_child_samples': 53, 'subsample': 0.9419490026627444, 'colsample_bytree': 0.7838347441255993, 'reg_alpha': 2.7274642962223568, 'reg_lambda': 4.8664059131239}. Best is trial 4 with value: 0.770715993128715.\n"
     ]
    },
    {
     "name": "stdout",
     "output_type": "stream",
     "text": [
      "Training until validation scores don't improve for 50 rounds\n",
      "Early stopping, best iteration is:\n",
      "[83]\tvalid_0's auc: 0.762881\n",
      "Training until validation scores don't improve for 50 rounds\n",
      "Early stopping, best iteration is:\n",
      "[73]\tvalid_0's auc: 0.75991\n",
      "Training until validation scores don't improve for 50 rounds\n",
      "Early stopping, best iteration is:\n",
      "[98]\tvalid_0's auc: 0.771971\n",
      "Training until validation scores don't improve for 50 rounds\n",
      "Early stopping, best iteration is:\n",
      "[50]\tvalid_0's auc: 0.764335\n",
      "Training until validation scores don't improve for 50 rounds\n"
     ]
    },
    {
     "name": "stderr",
     "output_type": "stream",
     "text": [
      "[I 2025-07-22 12:39:27,615] Trial 5 finished with value: 0.7647829750526217 and parameters: {'learning_rate': 0.2731898051449645, 'num_leaves': 66, 'max_depth': 5, 'min_child_samples': 13, 'subsample': 0.5007879887729445, 'colsample_bytree': 0.672366262539513, 'reg_alpha': 1.8725166937100974, 'reg_lambda': 3.0464984737939176}. Best is trial 4 with value: 0.770715993128715.\n"
     ]
    },
    {
     "name": "stdout",
     "output_type": "stream",
     "text": [
      "Early stopping, best iteration is:\n",
      "[91]\tvalid_0's auc: 0.764818\n",
      "Training until validation scores don't improve for 50 rounds\n",
      "Did not meet early stopping. Best iteration is:\n",
      "[999]\tvalid_0's auc: 0.76631\n",
      "Training until validation scores don't improve for 50 rounds\n",
      "Did not meet early stopping. Best iteration is:\n",
      "[1000]\tvalid_0's auc: 0.764716\n",
      "Training until validation scores don't improve for 50 rounds\n",
      "Did not meet early stopping. Best iteration is:\n",
      "[1000]\tvalid_0's auc: 0.777322\n",
      "Training until validation scores don't improve for 50 rounds\n",
      "Did not meet early stopping. Best iteration is:\n",
      "[1000]\tvalid_0's auc: 0.767214\n",
      "Training until validation scores don't improve for 50 rounds\n",
      "Did not meet early stopping. Best iteration is:\n",
      "[1000]\tvalid_0's auc: 0.769983\n"
     ]
    },
    {
     "name": "stderr",
     "output_type": "stream",
     "text": [
      "[I 2025-07-22 12:41:07,211] Trial 6 finished with value: 0.7691088455975159 and parameters: {'learning_rate': 0.018415916478227934, 'num_leaves': 83, 'max_depth': 4, 'min_child_samples': 29, 'subsample': 0.7566095014870657, 'colsample_bytree': 0.8870966951873442, 'reg_alpha': 0.4991768241247313, 'reg_lambda': 1.4688118008398536}. Best is trial 4 with value: 0.770715993128715.\n"
     ]
    },
    {
     "name": "stdout",
     "output_type": "stream",
     "text": [
      "Training until validation scores don't improve for 50 rounds\n",
      "Early stopping, best iteration is:\n",
      "[95]\tvalid_0's auc: 0.764968\n",
      "Training until validation scores don't improve for 50 rounds\n",
      "Early stopping, best iteration is:\n",
      "[107]\tvalid_0's auc: 0.763316\n",
      "Training until validation scores don't improve for 50 rounds\n",
      "Early stopping, best iteration is:\n",
      "[131]\tvalid_0's auc: 0.776368\n",
      "Training until validation scores don't improve for 50 rounds\n",
      "Early stopping, best iteration is:\n",
      "[114]\tvalid_0's auc: 0.766249\n",
      "Training until validation scores don't improve for 50 rounds\n",
      "Early stopping, best iteration is:\n",
      "[146]\tvalid_0's auc: 0.768438\n"
     ]
    },
    {
     "name": "stderr",
     "output_type": "stream",
     "text": [
      "[I 2025-07-22 12:41:41,393] Trial 7 finished with value: 0.7678679400981363 and parameters: {'learning_rate': 0.1168519030829087, 'num_leaves': 77, 'max_depth': 8, 'min_child_samples': 84, 'subsample': 0.9162091253454921, 'colsample_bytree': 0.5930334377380946, 'reg_alpha': 3.3601429446162823, 'reg_lambda': 4.551360086693756}. Best is trial 4 with value: 0.770715993128715.\n"
     ]
    },
    {
     "name": "stdout",
     "output_type": "stream",
     "text": [
      "Training until validation scores don't improve for 50 rounds\n",
      "Early stopping, best iteration is:\n",
      "[77]\tvalid_0's auc: 0.76627\n",
      "Training until validation scores don't improve for 50 rounds\n",
      "Early stopping, best iteration is:\n",
      "[114]\tvalid_0's auc: 0.763219\n",
      "Training until validation scores don't improve for 50 rounds\n",
      "Early stopping, best iteration is:\n",
      "[100]\tvalid_0's auc: 0.775254\n",
      "Training until validation scores don't improve for 50 rounds\n",
      "Early stopping, best iteration is:\n",
      "[103]\tvalid_0's auc: 0.76701\n",
      "Training until validation scores don't improve for 50 rounds\n"
     ]
    },
    {
     "name": "stderr",
     "output_type": "stream",
     "text": [
      "[I 2025-07-22 12:42:10,795] Trial 8 finished with value: 0.7682260715204964 and parameters: {'learning_rate': 0.13354067083353846, 'num_leaves': 37, 'max_depth': 9, 'min_child_samples': 24, 'subsample': 0.8106057980869816, 'colsample_bytree': 0.9888477602610708, 'reg_alpha': 2.973966255356481, 'reg_lambda': 0.9753259055919911}. Best is trial 4 with value: 0.770715993128715.\n"
     ]
    },
    {
     "name": "stdout",
     "output_type": "stream",
     "text": [
      "Early stopping, best iteration is:\n",
      "[107]\tvalid_0's auc: 0.769376\n",
      "Training until validation scores don't improve for 50 rounds\n",
      "Early stopping, best iteration is:\n",
      "[148]\tvalid_0's auc: 0.766794\n",
      "Training until validation scores don't improve for 50 rounds\n",
      "Early stopping, best iteration is:\n",
      "[122]\tvalid_0's auc: 0.764641\n",
      "Training until validation scores don't improve for 50 rounds\n",
      "Early stopping, best iteration is:\n",
      "[90]\tvalid_0's auc: 0.77594\n",
      "Training until validation scores don't improve for 50 rounds\n",
      "Early stopping, best iteration is:\n",
      "[115]\tvalid_0's auc: 0.766726\n",
      "Training until validation scores don't improve for 50 rounds\n"
     ]
    },
    {
     "name": "stderr",
     "output_type": "stream",
     "text": [
      "[I 2025-07-22 12:42:39,205] Trial 9 finished with value: 0.7687182332436817 and parameters: {'learning_rate': 0.13256355709334885, 'num_leaves': 47, 'max_depth': 7, 'min_child_samples': 86, 'subsample': 0.5258258410274118, 'colsample_bytree': 0.8037720165543191, 'reg_alpha': 2.575772104238908, 'reg_lambda': 3.2270385205366985}. Best is trial 4 with value: 0.770715993128715.\n"
     ]
    },
    {
     "name": "stdout",
     "output_type": "stream",
     "text": [
      "Early stopping, best iteration is:\n",
      "[97]\tvalid_0's auc: 0.769491\n",
      "Training until validation scores don't improve for 50 rounds\n",
      "Early stopping, best iteration is:\n",
      "[950]\tvalid_0's auc: 0.768111\n",
      "Training until validation scores don't improve for 50 rounds\n",
      "Did not meet early stopping. Best iteration is:\n",
      "[982]\tvalid_0's auc: 0.768356\n",
      "Training until validation scores don't improve for 50 rounds\n",
      "Early stopping, best iteration is:\n",
      "[606]\tvalid_0's auc: 0.77881\n",
      "Training until validation scores don't improve for 50 rounds\n",
      "Early stopping, best iteration is:\n",
      "[722]\tvalid_0's auc: 0.769691\n",
      "Training until validation scores don't improve for 50 rounds\n",
      "Early stopping, best iteration is:\n",
      "[753]\tvalid_0's auc: 0.773599\n"
     ]
    },
    {
     "name": "stderr",
     "output_type": "stream",
     "text": [
      "[I 2025-07-22 12:43:44,902] Trial 10 finished with value: 0.7717134158466497 and parameters: {'learning_rate': 0.07383129710285183, 'num_leaves': 100, 'max_depth': 3, 'min_child_samples': 52, 'subsample': 0.9821644799982593, 'colsample_bytree': 0.96060590532016, 'reg_alpha': 1.6201959233882115, 'reg_lambda': 4.969607135058682}. Best is trial 10 with value: 0.7717134158466497.\n"
     ]
    },
    {
     "name": "stdout",
     "output_type": "stream",
     "text": [
      "Training until validation scores don't improve for 50 rounds\n",
      "Early stopping, best iteration is:\n",
      "[941]\tvalid_0's auc: 0.767821\n",
      "Training until validation scores don't improve for 50 rounds\n",
      "Did not meet early stopping. Best iteration is:\n",
      "[1000]\tvalid_0's auc: 0.767139\n",
      "Training until validation scores don't improve for 50 rounds\n",
      "Early stopping, best iteration is:\n",
      "[945]\tvalid_0's auc: 0.779906\n",
      "Training until validation scores don't improve for 50 rounds\n",
      "Early stopping, best iteration is:\n",
      "[760]\tvalid_0's auc: 0.76953\n",
      "Training until validation scores don't improve for 50 rounds\n",
      "Early stopping, best iteration is:\n",
      "[936]\tvalid_0's auc: 0.77422\n"
     ]
    },
    {
     "name": "stderr",
     "output_type": "stream",
     "text": [
      "[I 2025-07-22 12:45:02,053] Trial 11 finished with value: 0.7717232541819707 and parameters: {'learning_rate': 0.06451805442051704, 'num_leaves': 100, 'max_depth': 3, 'min_child_samples': 51, 'subsample': 0.9902785255739934, 'colsample_bytree': 0.9910584721525117, 'reg_alpha': 1.6068558882711563, 'reg_lambda': 4.058597500105267}. Best is trial 11 with value: 0.7717232541819707.\n"
     ]
    },
    {
     "name": "stdout",
     "output_type": "stream",
     "text": [
      "Training until validation scores don't improve for 50 rounds\n",
      "Early stopping, best iteration is:\n",
      "[798]\tvalid_0's auc: 0.767702\n",
      "Training until validation scores don't improve for 50 rounds\n",
      "Did not meet early stopping. Best iteration is:\n",
      "[961]\tvalid_0's auc: 0.766795\n",
      "Training until validation scores don't improve for 50 rounds\n",
      "Early stopping, best iteration is:\n",
      "[884]\tvalid_0's auc: 0.779611\n",
      "Training until validation scores don't improve for 50 rounds\n",
      "Early stopping, best iteration is:\n",
      "[820]\tvalid_0's auc: 0.769303\n",
      "Training until validation scores don't improve for 50 rounds\n",
      "Early stopping, best iteration is:\n",
      "[843]\tvalid_0's auc: 0.773972\n"
     ]
    },
    {
     "name": "stderr",
     "output_type": "stream",
     "text": [
      "[I 2025-07-22 12:46:13,043] Trial 12 finished with value: 0.7714765656570164 and parameters: {'learning_rate': 0.06359604604820268, 'num_leaves': 100, 'max_depth': 3, 'min_child_samples': 47, 'subsample': 0.9996836184330875, 'colsample_bytree': 0.9764035667696216, 'reg_alpha': 1.4679405059974884, 'reg_lambda': 3.851701444346583}. Best is trial 11 with value: 0.7717232541819707.\n"
     ]
    },
    {
     "name": "stdout",
     "output_type": "stream",
     "text": [
      "Training until validation scores don't improve for 50 rounds\n",
      "Early stopping, best iteration is:\n",
      "[702]\tvalid_0's auc: 0.767176\n",
      "Training until validation scores don't improve for 50 rounds\n",
      "Early stopping, best iteration is:\n",
      "[946]\tvalid_0's auc: 0.768282\n",
      "Training until validation scores don't improve for 50 rounds\n",
      "Did not meet early stopping. Best iteration is:\n",
      "[971]\tvalid_0's auc: 0.779921\n",
      "Training until validation scores don't improve for 50 rounds\n",
      "Early stopping, best iteration is:\n",
      "[702]\tvalid_0's auc: 0.769297\n",
      "Training until validation scores don't improve for 50 rounds\n",
      "Early stopping, best iteration is:\n",
      "[807]\tvalid_0's auc: 0.773791\n"
     ]
    },
    {
     "name": "stderr",
     "output_type": "stream",
     "text": [
      "[I 2025-07-22 12:47:19,107] Trial 13 finished with value: 0.7716932624978096 and parameters: {'learning_rate': 0.0746811373434122, 'num_leaves': 100, 'max_depth': 3, 'min_child_samples': 68, 'subsample': 0.9970057866635558, 'colsample_bytree': 0.9165983856378621, 'reg_alpha': 1.2967628812087302, 'reg_lambda': 3.8619521916571045}. Best is trial 11 with value: 0.7717232541819707.\n"
     ]
    },
    {
     "name": "stdout",
     "output_type": "stream",
     "text": [
      "Training until validation scores don't improve for 50 rounds\n",
      "Early stopping, best iteration is:\n",
      "[305]\tvalid_0's auc: 0.76833\n",
      "Training until validation scores don't improve for 50 rounds\n",
      "Early stopping, best iteration is:\n",
      "[277]\tvalid_0's auc: 0.766044\n",
      "Training until validation scores don't improve for 50 rounds\n",
      "Early stopping, best iteration is:\n",
      "[305]\tvalid_0's auc: 0.777337\n",
      "Training until validation scores don't improve for 50 rounds\n",
      "Early stopping, best iteration is:\n",
      "[322]\tvalid_0's auc: 0.769582\n",
      "Training until validation scores don't improve for 50 rounds\n",
      "Early stopping, best iteration is:\n",
      "[223]\tvalid_0's auc: 0.770192\n"
     ]
    },
    {
     "name": "stderr",
     "output_type": "stream",
     "text": [
      "[I 2025-07-22 12:48:11,331] Trial 14 finished with value: 0.7702969940358327 and parameters: {'learning_rate': 0.06737047282715868, 'num_leaves': 90, 'max_depth': 6, 'min_child_samples': 67, 'subsample': 0.8918652181691836, 'colsample_bytree': 0.9170661866093031, 'reg_alpha': 1.8683967505518084, 'reg_lambda': 3.7090881845132366}. Best is trial 11 with value: 0.7717232541819707.\n"
     ]
    },
    {
     "name": "stdout",
     "output_type": "stream",
     "text": [
      "Training until validation scores don't improve for 50 rounds\n",
      "Did not meet early stopping. Best iteration is:\n",
      "[1000]\tvalid_0's auc: 0.766851\n",
      "Training until validation scores don't improve for 50 rounds\n",
      "Did not meet early stopping. Best iteration is:\n",
      "[1000]\tvalid_0's auc: 0.76662\n",
      "Training until validation scores don't improve for 50 rounds\n",
      "Did not meet early stopping. Best iteration is:\n",
      "[999]\tvalid_0's auc: 0.779805\n",
      "Training until validation scores don't improve for 50 rounds\n",
      "Did not meet early stopping. Best iteration is:\n",
      "[992]\tvalid_0's auc: 0.76894\n",
      "Training until validation scores don't improve for 50 rounds\n",
      "Did not meet early stopping. Best iteration is:\n",
      "[988]\tvalid_0's auc: 0.772977\n"
     ]
    },
    {
     "name": "stderr",
     "output_type": "stream",
     "text": [
      "[I 2025-07-22 12:49:27,141] Trial 15 finished with value: 0.7710384226847867 and parameters: {'learning_rate': 0.04692381373240202, 'num_leaves': 91, 'max_depth': 3, 'min_child_samples': 40, 'subsample': 0.6525798217706057, 'colsample_bytree': 0.997742441549335, 'reg_alpha': 1.0878071013503876, 'reg_lambda': 0.09086610382711457}. Best is trial 11 with value: 0.7717232541819707.\n"
     ]
    },
    {
     "name": "stdout",
     "output_type": "stream",
     "text": [
      "Training until validation scores don't improve for 50 rounds\n",
      "Early stopping, best iteration is:\n",
      "[199]\tvalid_0's auc: 0.765364\n",
      "Training until validation scores don't improve for 50 rounds\n",
      "Early stopping, best iteration is:\n",
      "[343]\tvalid_0's auc: 0.766175\n",
      "Training until validation scores don't improve for 50 rounds\n",
      "Early stopping, best iteration is:\n",
      "[189]\tvalid_0's auc: 0.776172\n",
      "Training until validation scores don't improve for 50 rounds\n",
      "Early stopping, best iteration is:\n",
      "[123]\tvalid_0's auc: 0.766989\n",
      "Training until validation scores don't improve for 50 rounds\n",
      "Early stopping, best iteration is:\n",
      "[216]\tvalid_0's auc: 0.768894\n"
     ]
    },
    {
     "name": "stderr",
     "output_type": "stream",
     "text": [
      "[I 2025-07-22 12:49:55,888] Trial 16 finished with value: 0.768718796002475 and parameters: {'learning_rate': 0.18750680317218799, 'num_leaves': 89, 'max_depth': 4, 'min_child_samples': 63, 'subsample': 0.8782171524367953, 'colsample_bytree': 0.8735128699601137, 'reg_alpha': 0.0011102891863616904, 'reg_lambda': 2.316256729206075}. Best is trial 11 with value: 0.7717232541819707.\n"
     ]
    },
    {
     "name": "stdout",
     "output_type": "stream",
     "text": [
      "Training until validation scores don't improve for 50 rounds\n",
      "Early stopping, best iteration is:\n",
      "[278]\tvalid_0's auc: 0.769541\n",
      "Training until validation scores don't improve for 50 rounds\n",
      "Early stopping, best iteration is:\n",
      "[238]\tvalid_0's auc: 0.765909\n",
      "Training until validation scores don't improve for 50 rounds\n",
      "Early stopping, best iteration is:\n",
      "[236]\tvalid_0's auc: 0.777814\n",
      "Training until validation scores don't improve for 50 rounds\n",
      "Early stopping, best iteration is:\n",
      "[225]\tvalid_0's auc: 0.768279\n",
      "Training until validation scores don't improve for 50 rounds\n",
      "Early stopping, best iteration is:\n",
      "[273]\tvalid_0's auc: 0.770067\n"
     ]
    },
    {
     "name": "stderr",
     "output_type": "stream",
     "text": [
      "[I 2025-07-22 12:50:42,697] Trial 17 finished with value: 0.770321908637235 and parameters: {'learning_rate': 0.08897787513601027, 'num_leaves': 100, 'max_depth': 6, 'min_child_samples': 98, 'subsample': 0.9593332779611407, 'colsample_bytree': 0.9480161593413011, 'reg_alpha': 1.9937592468349434, 'reg_lambda': 4.973884621984616}. Best is trial 11 with value: 0.7717232541819707.\n"
     ]
    },
    {
     "name": "stdout",
     "output_type": "stream",
     "text": [
      "Training until validation scores don't improve for 50 rounds\n",
      "Early stopping, best iteration is:\n",
      "[777]\tvalid_0's auc: 0.76814\n",
      "Training until validation scores don't improve for 50 rounds\n",
      "Did not meet early stopping. Best iteration is:\n",
      "[997]\tvalid_0's auc: 0.768386\n",
      "Training until validation scores don't improve for 50 rounds\n",
      "Early stopping, best iteration is:\n",
      "[844]\tvalid_0's auc: 0.779442\n",
      "Training until validation scores don't improve for 50 rounds\n",
      "Early stopping, best iteration is:\n",
      "[897]\tvalid_0's auc: 0.770483\n",
      "Training until validation scores don't improve for 50 rounds\n",
      "Early stopping, best iteration is:\n",
      "[950]\tvalid_0's auc: 0.772977\n"
     ]
    },
    {
     "name": "stderr",
     "output_type": "stream",
     "text": [
      "[I 2025-07-22 12:52:02,413] Trial 18 finished with value: 0.7718856593198331 and parameters: {'learning_rate': 0.040148825713457834, 'num_leaves': 73, 'max_depth': 4, 'min_child_samples': 41, 'subsample': 0.7054648304440114, 'colsample_bytree': 0.8464793420340503, 'reg_alpha': 0.8023636601945279, 'reg_lambda': 4.2082087687237095}. Best is trial 18 with value: 0.7718856593198331.\n"
     ]
    },
    {
     "name": "stdout",
     "output_type": "stream",
     "text": [
      "Training until validation scores don't improve for 50 rounds\n",
      "Did not meet early stopping. Best iteration is:\n",
      "[1000]\tvalid_0's auc: 0.768303\n",
      "Training until validation scores don't improve for 50 rounds\n",
      "Did not meet early stopping. Best iteration is:\n",
      "[992]\tvalid_0's auc: 0.767444\n",
      "Training until validation scores don't improve for 50 rounds\n",
      "Early stopping, best iteration is:\n",
      "[655]\tvalid_0's auc: 0.778515\n",
      "Training until validation scores don't improve for 50 rounds\n",
      "Did not meet early stopping. Best iteration is:\n",
      "[999]\tvalid_0's auc: 0.770128\n",
      "Training until validation scores don't improve for 50 rounds\n",
      "Did not meet early stopping. Best iteration is:\n",
      "[999]\tvalid_0's auc: 0.77285\n"
     ]
    },
    {
     "name": "stderr",
     "output_type": "stream",
     "text": [
      "[I 2025-07-22 12:53:22,475] Trial 19 finished with value: 0.7714477805682235 and parameters: {'learning_rate': 0.03383386750785153, 'num_leaves': 53, 'max_depth': 4, 'min_child_samples': 13, 'subsample': 0.6764499101406876, 'colsample_bytree': 0.8351219134183163, 'reg_alpha': 0.7956112374130535, 'reg_lambda': 2.237194409731949}. Best is trial 18 with value: 0.7718856593198331.\n"
     ]
    },
    {
     "name": "stdout",
     "output_type": "stream",
     "text": [
      "Training until validation scores don't improve for 50 rounds\n",
      "Early stopping, best iteration is:\n",
      "[90]\tvalid_0's auc: 0.762226\n",
      "Training until validation scores don't improve for 50 rounds\n",
      "Early stopping, best iteration is:\n",
      "[81]\tvalid_0's auc: 0.762134\n",
      "Training until validation scores don't improve for 50 rounds\n",
      "Early stopping, best iteration is:\n",
      "[71]\tvalid_0's auc: 0.775021\n",
      "Training until validation scores don't improve for 50 rounds\n",
      "Early stopping, best iteration is:\n",
      "[74]\tvalid_0's auc: 0.763375\n",
      "Training until validation scores don't improve for 50 rounds\n"
     ]
    },
    {
     "name": "stderr",
     "output_type": "stream",
     "text": [
      "[I 2025-07-22 12:53:48,473] Trial 20 finished with value: 0.766068515608818 and parameters: {'learning_rate': 0.16450104491325523, 'num_leaves': 74, 'max_depth': 7, 'min_child_samples': 39, 'subsample': 0.614286339399905, 'colsample_bytree': 0.7741471178509455, 'reg_alpha': 4.104712710231894, 'reg_lambda': 4.305502321178747}. Best is trial 18 with value: 0.7718856593198331.\n"
     ]
    },
    {
     "name": "stdout",
     "output_type": "stream",
     "text": [
      "Early stopping, best iteration is:\n",
      "[89]\tvalid_0's auc: 0.767586\n",
      "Training until validation scores don't improve for 50 rounds\n",
      "Early stopping, best iteration is:\n",
      "[614]\tvalid_0's auc: 0.768045\n",
      "Training until validation scores don't improve for 50 rounds\n",
      "Early stopping, best iteration is:\n",
      "[702]\tvalid_0's auc: 0.767797\n",
      "Training until validation scores don't improve for 50 rounds\n",
      "Early stopping, best iteration is:\n",
      "[670]\tvalid_0's auc: 0.779384\n",
      "Training until validation scores don't improve for 50 rounds\n",
      "Early stopping, best iteration is:\n",
      "[770]\tvalid_0's auc: 0.771033\n",
      "Training until validation scores don't improve for 50 rounds\n",
      "Early stopping, best iteration is:\n",
      "[767]\tvalid_0's auc: 0.773657\n"
     ]
    },
    {
     "name": "stderr",
     "output_type": "stream",
     "text": [
      "[I 2025-07-22 12:54:45,338] Trial 21 finished with value: 0.7719831695670157 and parameters: {'learning_rate': 0.09411901220265277, 'num_leaves': 85, 'max_depth': 3, 'min_child_samples': 51, 'subsample': 0.7115232751456437, 'colsample_bytree': 0.9382573230271348, 'reg_alpha': 2.1141547256409265, 'reg_lambda': 3.5156023304378086}. Best is trial 21 with value: 0.7719831695670157.\n"
     ]
    },
    {
     "name": "stdout",
     "output_type": "stream",
     "text": [
      "Training until validation scores don't improve for 50 rounds\n",
      "Early stopping, best iteration is:\n",
      "[387]\tvalid_0's auc: 0.76771\n",
      "Training until validation scores don't improve for 50 rounds\n",
      "Early stopping, best iteration is:\n",
      "[488]\tvalid_0's auc: 0.767003\n",
      "Training until validation scores don't improve for 50 rounds\n",
      "Early stopping, best iteration is:\n",
      "[464]\tvalid_0's auc: 0.779781\n",
      "Training until validation scores don't improve for 50 rounds\n",
      "Early stopping, best iteration is:\n",
      "[374]\tvalid_0's auc: 0.769972\n",
      "Training until validation scores don't improve for 50 rounds\n",
      "Early stopping, best iteration is:\n",
      "[436]\tvalid_0's auc: 0.773079\n"
     ]
    },
    {
     "name": "stderr",
     "output_type": "stream",
     "text": [
      "[I 2025-07-22 12:55:30,915] Trial 22 finished with value: 0.7715090478793887 and parameters: {'learning_rate': 0.09597559592205115, 'num_leaves': 84, 'max_depth': 4, 'min_child_samples': 43, 'subsample': 0.7214115362109917, 'colsample_bytree': 0.9066611304462489, 'reg_alpha': 2.0986822415112516, 'reg_lambda': 3.514645906119587}. Best is trial 21 with value: 0.7719831695670157.\n"
     ]
    },
    {
     "name": "stdout",
     "output_type": "stream",
     "text": [
      "Training until validation scores don't improve for 50 rounds\n",
      "Did not meet early stopping. Best iteration is:\n",
      "[1000]\tvalid_0's auc: 0.766988\n",
      "Training until validation scores don't improve for 50 rounds\n",
      "Did not meet early stopping. Best iteration is:\n",
      "[999]\tvalid_0's auc: 0.766294\n",
      "Training until validation scores don't improve for 50 rounds\n",
      "Did not meet early stopping. Best iteration is:\n",
      "[995]\tvalid_0's auc: 0.778941\n",
      "Training until validation scores don't improve for 50 rounds\n",
      "Did not meet early stopping. Best iteration is:\n",
      "[993]\tvalid_0's auc: 0.7688\n",
      "Training until validation scores don't improve for 50 rounds\n",
      "Did not meet early stopping. Best iteration is:\n",
      "[998]\tvalid_0's auc: 0.773125\n"
     ]
    },
    {
     "name": "stderr",
     "output_type": "stream",
     "text": [
      "[I 2025-07-22 12:56:41,879] Trial 23 finished with value: 0.770829704499135 and parameters: {'learning_rate': 0.0444954904177071, 'num_leaves': 72, 'max_depth': 3, 'min_child_samples': 30, 'subsample': 0.5936466238887775, 'colsample_bytree': 0.8467791575258392, 'reg_alpha': 0.899884487189484, 'reg_lambda': 4.134951909566022}. Best is trial 21 with value: 0.7719831695670157.\n"
     ]
    },
    {
     "name": "stdout",
     "output_type": "stream",
     "text": [
      "Training until validation scores don't improve for 50 rounds\n",
      "Early stopping, best iteration is:\n",
      "[756]\tvalid_0's auc: 0.769749\n",
      "Training until validation scores don't improve for 50 rounds\n",
      "Early stopping, best iteration is:\n",
      "[935]\tvalid_0's auc: 0.768182\n",
      "Training until validation scores don't improve for 50 rounds\n",
      "Early stopping, best iteration is:\n",
      "[671]\tvalid_0's auc: 0.778983\n",
      "Training until validation scores don't improve for 50 rounds\n",
      "Early stopping, best iteration is:\n",
      "[677]\tvalid_0's auc: 0.769683\n",
      "Training until validation scores don't improve for 50 rounds\n",
      "Early stopping, best iteration is:\n",
      "[813]\tvalid_0's auc: 0.772215\n"
     ]
    },
    {
     "name": "stderr",
     "output_type": "stream",
     "text": [
      "[I 2025-07-22 12:58:13,296] Trial 24 finished with value: 0.7717625009727579 and parameters: {'learning_rate': 0.0348898296425061, 'num_leaves': 83, 'max_depth': 5, 'min_child_samples': 62, 'subsample': 0.7087691805786903, 'colsample_bytree': 0.944785122595667, 'reg_alpha': 2.27298399563607, 'reg_lambda': 2.638064155147945}. Best is trial 21 with value: 0.7719831695670157.\n"
     ]
    },
    {
     "name": "stdout",
     "output_type": "stream",
     "text": [
      "Training until validation scores don't improve for 50 rounds\n",
      "Early stopping, best iteration is:\n",
      "[549]\tvalid_0's auc: 0.769875\n",
      "Training until validation scores don't improve for 50 rounds\n",
      "Early stopping, best iteration is:\n",
      "[602]\tvalid_0's auc: 0.767496\n",
      "Training until validation scores don't improve for 50 rounds\n",
      "Early stopping, best iteration is:\n",
      "[512]\tvalid_0's auc: 0.778313\n",
      "Training until validation scores don't improve for 50 rounds\n",
      "Early stopping, best iteration is:\n",
      "[567]\tvalid_0's auc: 0.770138\n",
      "Training until validation scores don't improve for 50 rounds\n",
      "Early stopping, best iteration is:\n",
      "[450]\tvalid_0's auc: 0.771949\n"
     ]
    },
    {
     "name": "stderr",
     "output_type": "stream",
     "text": [
      "[I 2025-07-22 12:59:37,191] Trial 25 finished with value: 0.7715542339736879 and parameters: {'learning_rate': 0.03718981885729751, 'num_leaves': 58, 'max_depth': 6, 'min_child_samples': 61, 'subsample': 0.7139279612599573, 'colsample_bytree': 0.934788080242332, 'reg_alpha': 2.391988571565359, 'reg_lambda': 2.6004283938983885}. Best is trial 21 with value: 0.7719831695670157.\n"
     ]
    },
    {
     "name": "stdout",
     "output_type": "stream",
     "text": [
      "Training until validation scores don't improve for 50 rounds\n",
      "Early stopping, best iteration is:\n",
      "[344]\tvalid_0's auc: 0.768652\n",
      "Training until validation scores don't improve for 50 rounds\n",
      "Early stopping, best iteration is:\n",
      "[311]\tvalid_0's auc: 0.766281\n",
      "Training until validation scores don't improve for 50 rounds\n",
      "Early stopping, best iteration is:\n",
      "[263]\tvalid_0's auc: 0.778773\n",
      "Training until validation scores don't improve for 50 rounds\n",
      "Early stopping, best iteration is:\n",
      "[304]\tvalid_0's auc: 0.769087\n",
      "Training until validation scores don't improve for 50 rounds\n",
      "Early stopping, best iteration is:\n",
      "[265]\tvalid_0's auc: 0.770612\n"
     ]
    },
    {
     "name": "stderr",
     "output_type": "stream",
     "text": [
      "[I 2025-07-22 13:00:18,902] Trial 26 finished with value: 0.7706810717047861 and parameters: {'learning_rate': 0.0983837019892532, 'num_leaves': 83, 'max_depth': 5, 'min_child_samples': 75, 'subsample': 0.7858037178852606, 'colsample_bytree': 0.8694200971708669, 'reg_alpha': 3.678155932156754, 'reg_lambda': 3.4036764080915676}. Best is trial 21 with value: 0.7719831695670157.\n"
     ]
    },
    {
     "name": "stdout",
     "output_type": "stream",
     "text": [
      "Training until validation scores don't improve for 50 rounds\n",
      "Did not meet early stopping. Best iteration is:\n",
      "[990]\tvalid_0's auc: 0.768246\n",
      "Training until validation scores don't improve for 50 rounds\n",
      "Did not meet early stopping. Best iteration is:\n",
      "[1000]\tvalid_0's auc: 0.767334\n",
      "Training until validation scores don't improve for 50 rounds\n",
      "Did not meet early stopping. Best iteration is:\n",
      "[966]\tvalid_0's auc: 0.779965\n",
      "Training until validation scores don't improve for 50 rounds\n",
      "Did not meet early stopping. Best iteration is:\n",
      "[998]\tvalid_0's auc: 0.769631\n",
      "Training until validation scores don't improve for 50 rounds\n",
      "Did not meet early stopping. Best iteration is:\n",
      "[1000]\tvalid_0's auc: 0.773296\n"
     ]
    },
    {
     "name": "stderr",
     "output_type": "stream",
     "text": [
      "[I 2025-07-22 13:01:43,111] Trial 27 finished with value: 0.7716943588793382 and parameters: {'learning_rate': 0.030340544873591023, 'num_leaves': 69, 'max_depth': 4, 'min_child_samples': 75, 'subsample': 0.7078956869352502, 'colsample_bytree': 0.8143176405602195, 'reg_alpha': 2.273242211989158, 'reg_lambda': 1.9709728627716199}. Best is trial 21 with value: 0.7719831695670157.\n"
     ]
    },
    {
     "name": "stdout",
     "output_type": "stream",
     "text": [
      "Training until validation scores don't improve for 50 rounds\n",
      "Early stopping, best iteration is:\n",
      "[118]\tvalid_0's auc: 0.766571\n",
      "Training until validation scores don't improve for 50 rounds\n",
      "Early stopping, best iteration is:\n",
      "[148]\tvalid_0's auc: 0.761954\n",
      "Training until validation scores don't improve for 50 rounds\n",
      "Early stopping, best iteration is:\n",
      "[142]\tvalid_0's auc: 0.775636\n",
      "Training until validation scores don't improve for 50 rounds\n",
      "Early stopping, best iteration is:\n",
      "[94]\tvalid_0's auc: 0.767494\n",
      "Training until validation scores don't improve for 50 rounds\n"
     ]
    },
    {
     "name": "stderr",
     "output_type": "stream",
     "text": [
      "[I 2025-07-22 13:02:11,586] Trial 28 finished with value: 0.7678593926800488 and parameters: {'learning_rate': 0.14858721102861847, 'num_leaves': 93, 'max_depth': 6, 'min_child_samples': 59, 'subsample': 0.6079106681711773, 'colsample_bytree': 0.8819241265136053, 'reg_alpha': 2.8069680099838403, 'reg_lambda': 2.836280403735004}. Best is trial 21 with value: 0.7719831695670157.\n"
     ]
    },
    {
     "name": "stdout",
     "output_type": "stream",
     "text": [
      "Early stopping, best iteration is:\n",
      "[109]\tvalid_0's auc: 0.767642\n",
      "Training until validation scores don't improve for 50 rounds\n",
      "Did not meet early stopping. Best iteration is:\n",
      "[1000]\tvalid_0's auc: 0.769008\n",
      "Training until validation scores don't improve for 50 rounds\n",
      "Did not meet early stopping. Best iteration is:\n",
      "[1000]\tvalid_0's auc: 0.767283\n",
      "Training until validation scores don't improve for 50 rounds\n",
      "Did not meet early stopping. Best iteration is:\n",
      "[1000]\tvalid_0's auc: 0.779286\n",
      "Training until validation scores don't improve for 50 rounds\n",
      "Did not meet early stopping. Best iteration is:\n",
      "[998]\tvalid_0's auc: 0.769552\n",
      "Training until validation scores don't improve for 50 rounds\n",
      "Did not meet early stopping. Best iteration is:\n",
      "[997]\tvalid_0's auc: 0.771465\n"
     ]
    },
    {
     "name": "stderr",
     "output_type": "stream",
     "text": [
      "[I 2025-07-22 13:03:50,857] Trial 29 finished with value: 0.7713187097408356 and parameters: {'learning_rate': 0.01907828858381217, 'num_leaves': 25, 'max_depth': 5, 'min_child_samples': 46, 'subsample': 0.6523202146425016, 'colsample_bytree': 0.7249035883142821, 'reg_alpha': 4.116989785688732, 'reg_lambda': 0.8131774009557469}. Best is trial 21 with value: 0.7719831695670157.\n"
     ]
    },
    {
     "name": "stdout",
     "output_type": "stream",
     "text": [
      "Training until validation scores don't improve for 50 rounds\n",
      "Early stopping, best iteration is:\n",
      "[27]\tvalid_0's auc: 0.759692\n",
      "Training until validation scores don't improve for 50 rounds\n",
      "Early stopping, best iteration is:\n",
      "[38]\tvalid_0's auc: 0.757192\n",
      "Training until validation scores don't improve for 50 rounds\n",
      "Early stopping, best iteration is:\n",
      "[41]\tvalid_0's auc: 0.767853\n",
      "Training until validation scores don't improve for 50 rounds\n",
      "Early stopping, best iteration is:\n",
      "[47]\tvalid_0's auc: 0.758801\n",
      "Training until validation scores don't improve for 50 rounds\n"
     ]
    },
    {
     "name": "stderr",
     "output_type": "stream",
     "text": [
      "[I 2025-07-22 13:04:11,831] Trial 30 finished with value: 0.7608102153512657 and parameters: {'learning_rate': 0.23400947379147247, 'num_leaves': 81, 'max_depth': 11, 'min_child_samples': 32, 'subsample': 0.685868340656218, 'colsample_bytree': 0.6512969192206985, 'reg_alpha': 0.01687907195307503, 'reg_lambda': 3.307662225135785}. Best is trial 21 with value: 0.7719831695670157.\n"
     ]
    },
    {
     "name": "stdout",
     "output_type": "stream",
     "text": [
      "Early stopping, best iteration is:\n",
      "[28]\tvalid_0's auc: 0.760514\n",
      "Training until validation scores don't improve for 50 rounds\n",
      "Early stopping, best iteration is:\n",
      "[633]\tvalid_0's auc: 0.76808\n",
      "Training until validation scores don't improve for 50 rounds\n",
      "Early stopping, best iteration is:\n",
      "[775]\tvalid_0's auc: 0.768391\n",
      "Training until validation scores don't improve for 50 rounds\n",
      "Early stopping, best iteration is:\n",
      "[787]\tvalid_0's auc: 0.779706\n",
      "Training until validation scores don't improve for 50 rounds\n",
      "Early stopping, best iteration is:\n",
      "[599]\tvalid_0's auc: 0.769583\n",
      "Training until validation scores don't improve for 50 rounds\n",
      "Early stopping, best iteration is:\n",
      "[668]\tvalid_0's auc: 0.773269\n"
     ]
    },
    {
     "name": "stderr",
     "output_type": "stream",
     "text": [
      "[I 2025-07-22 13:05:19,681] Trial 31 finished with value: 0.7718056481607342 and parameters: {'learning_rate': 0.058781277041361726, 'num_leaves': 93, 'max_depth': 4, 'min_child_samples': 51, 'subsample': 0.7355405207397058, 'colsample_bytree': 0.9510242186824781, 'reg_alpha': 1.5184108573456387, 'reg_lambda': 4.056602486501384}. Best is trial 21 with value: 0.7719831695670157.\n"
     ]
    },
    {
     "name": "stdout",
     "output_type": "stream",
     "text": [
      "Training until validation scores don't improve for 50 rounds\n",
      "Early stopping, best iteration is:\n",
      "[811]\tvalid_0's auc: 0.768365\n",
      "Training until validation scores don't improve for 50 rounds\n",
      "Did not meet early stopping. Best iteration is:\n",
      "[976]\tvalid_0's auc: 0.768135\n",
      "Training until validation scores don't improve for 50 rounds\n",
      "Early stopping, best iteration is:\n",
      "[890]\tvalid_0's auc: 0.77961\n",
      "Training until validation scores don't improve for 50 rounds\n",
      "Early stopping, best iteration is:\n",
      "[708]\tvalid_0's auc: 0.769898\n",
      "Training until validation scores don't improve for 50 rounds\n",
      "Early stopping, best iteration is:\n",
      "[723]\tvalid_0's auc: 0.77322\n"
     ]
    },
    {
     "name": "stderr",
     "output_type": "stream",
     "text": [
      "[I 2025-07-22 13:06:36,230] Trial 32 finished with value: 0.7718457598892214 and parameters: {'learning_rate': 0.048013053645395265, 'num_leaves': 87, 'max_depth': 4, 'min_child_samples': 58, 'subsample': 0.7368386269917264, 'colsample_bytree': 0.9395018789722043, 'reg_alpha': 1.0337065880381893, 'reg_lambda': 4.605132566674483}. Best is trial 21 with value: 0.7719831695670157.\n"
     ]
    },
    {
     "name": "stdout",
     "output_type": "stream",
     "text": [
      "Training until validation scores don't improve for 50 rounds\n",
      "Did not meet early stopping. Best iteration is:\n",
      "[1000]\tvalid_0's auc: 0.763131\n",
      "Training until validation scores don't improve for 50 rounds\n",
      "Did not meet early stopping. Best iteration is:\n",
      "[998]\tvalid_0's auc: 0.760983\n",
      "Training until validation scores don't improve for 50 rounds\n",
      "Did not meet early stopping. Best iteration is:\n",
      "[1000]\tvalid_0's auc: 0.774009\n",
      "Training until validation scores don't improve for 50 rounds\n",
      "Did not meet early stopping. Best iteration is:\n",
      "[1000]\tvalid_0's auc: 0.763557\n",
      "Training until validation scores don't improve for 50 rounds\n",
      "Did not meet early stopping. Best iteration is:\n",
      "[1000]\tvalid_0's auc: 0.766338\n"
     ]
    },
    {
     "name": "stderr",
     "output_type": "stream",
     "text": [
      "[I 2025-07-22 13:08:11,391] Trial 33 finished with value: 0.7656035446497523 and parameters: {'learning_rate': 0.011053528013720143, 'num_leaves': 94, 'max_depth': 4, 'min_child_samples': 55, 'subsample': 0.7432310133321217, 'colsample_bytree': 0.9051311315443442, 'reg_alpha': 0.5852396673125804, 'reg_lambda': 4.572539309029191}. Best is trial 21 with value: 0.7719831695670157.\n"
     ]
    },
    {
     "name": "stdout",
     "output_type": "stream",
     "text": [
      "Training until validation scores don't improve for 50 rounds\n",
      "Early stopping, best iteration is:\n",
      "[597]\tvalid_0's auc: 0.768166\n",
      "Training until validation scores don't improve for 50 rounds\n",
      "Early stopping, best iteration is:\n",
      "[858]\tvalid_0's auc: 0.767413\n",
      "Training until validation scores don't improve for 50 rounds\n",
      "Early stopping, best iteration is:\n",
      "[670]\tvalid_0's auc: 0.779749\n",
      "Training until validation scores don't improve for 50 rounds\n",
      "Early stopping, best iteration is:\n",
      "[549]\tvalid_0's auc: 0.769053\n",
      "Training until validation scores don't improve for 50 rounds\n",
      "Early stopping, best iteration is:\n",
      "[836]\tvalid_0's auc: 0.773171\n"
     ]
    },
    {
     "name": "stderr",
     "output_type": "stream",
     "text": [
      "[I 2025-07-22 13:09:20,563] Trial 34 finished with value: 0.7715103097614756 and parameters: {'learning_rate': 0.052035865644832945, 'num_leaves': 87, 'max_depth': 4, 'min_child_samples': 22, 'subsample': 0.7909494289724914, 'colsample_bytree': 0.9565985479847825, 'reg_alpha': 1.1569825349435536, 'reg_lambda': 4.531364771889735}. Best is trial 21 with value: 0.7719831695670157.\n"
     ]
    },
    {
     "name": "stdout",
     "output_type": "stream",
     "text": [
      "Training until validation scores don't improve for 50 rounds\n",
      "Early stopping, best iteration is:\n",
      "[739]\tvalid_0's auc: 0.76766\n",
      "Training until validation scores don't improve for 50 rounds\n",
      "Early stopping, best iteration is:\n",
      "[676]\tvalid_0's auc: 0.767967\n",
      "Training until validation scores don't improve for 50 rounds\n",
      "Early stopping, best iteration is:\n",
      "[521]\tvalid_0's auc: 0.779101\n",
      "Training until validation scores don't improve for 50 rounds\n",
      "Early stopping, best iteration is:\n",
      "[571]\tvalid_0's auc: 0.769784\n",
      "Training until validation scores don't improve for 50 rounds\n",
      "Early stopping, best iteration is:\n",
      "[569]\tvalid_0's auc: 0.773207\n"
     ]
    },
    {
     "name": "stderr",
     "output_type": "stream",
     "text": [
      "[I 2025-07-22 13:10:09,628] Trial 35 finished with value: 0.7715438349458466 and parameters: {'learning_rate': 0.094668433340047, 'num_leaves': 77, 'max_depth': 3, 'min_child_samples': 49, 'subsample': 0.8260173078838156, 'colsample_bytree': 0.8522981371028029, 'reg_alpha': 0.8808490738915657, 'reg_lambda': 4.169667872890205}. Best is trial 21 with value: 0.7719831695670157.\n"
     ]
    },
    {
     "name": "stdout",
     "output_type": "stream",
     "text": [
      "Training until validation scores don't improve for 50 rounds\n",
      "Early stopping, best iteration is:\n",
      "[200]\tvalid_0's auc: 0.765946\n",
      "Training until validation scores don't improve for 50 rounds\n",
      "Early stopping, best iteration is:\n",
      "[233]\tvalid_0's auc: 0.767135\n",
      "Training until validation scores don't improve for 50 rounds\n",
      "Early stopping, best iteration is:\n",
      "[113]\tvalid_0's auc: 0.776394\n",
      "Training until validation scores don't improve for 50 rounds\n",
      "Early stopping, best iteration is:\n",
      "[203]\tvalid_0's auc: 0.76834\n",
      "Training until validation scores don't improve for 50 rounds\n",
      "Early stopping, best iteration is:\n",
      "[152]\tvalid_0's auc: 0.771143\n"
     ]
    },
    {
     "name": "stderr",
     "output_type": "stream",
     "text": [
      "[I 2025-07-22 13:10:53,881] Trial 36 finished with value: 0.7697916625048995 and parameters: {'learning_rate': 0.08149399492378526, 'num_leaves': 63, 'max_depth': 12, 'min_child_samples': 57, 'subsample': 0.7512341279039565, 'colsample_bytree': 0.521693319833985, 'reg_alpha': 1.371697423439837, 'reg_lambda': 3.625319759771708}. Best is trial 21 with value: 0.7719831695670157.\n"
     ]
    },
    {
     "name": "stdout",
     "output_type": "stream",
     "text": [
      "Training until validation scores don't improve for 50 rounds\n",
      "Early stopping, best iteration is:\n",
      "[475]\tvalid_0's auc: 0.768638\n",
      "Training until validation scores don't improve for 50 rounds\n",
      "Early stopping, best iteration is:\n",
      "[582]\tvalid_0's auc: 0.766829\n",
      "Training until validation scores don't improve for 50 rounds\n",
      "Early stopping, best iteration is:\n",
      "[479]\tvalid_0's auc: 0.7793\n",
      "Training until validation scores don't improve for 50 rounds\n",
      "Early stopping, best iteration is:\n",
      "[425]\tvalid_0's auc: 0.770278\n",
      "Training until validation scores don't improve for 50 rounds\n",
      "Early stopping, best iteration is:\n",
      "[509]\tvalid_0's auc: 0.77151\n"
     ]
    },
    {
     "name": "stderr",
     "output_type": "stream",
     "text": [
      "[I 2025-07-22 13:11:54,976] Trial 37 finished with value: 0.7713108106445908 and parameters: {'learning_rate': 0.05418487927339565, 'num_leaves': 95, 'max_depth': 5, 'min_child_samples': 35, 'subsample': 0.6467593534323588, 'colsample_bytree': 0.9360642143886353, 'reg_alpha': 0.269106567689529, 'reg_lambda': 4.636749492821603}. Best is trial 21 with value: 0.7719831695670157.\n"
     ]
    },
    {
     "name": "stdout",
     "output_type": "stream",
     "text": [
      "Training until validation scores don't improve for 50 rounds\n",
      "Early stopping, best iteration is:\n",
      "[96]\tvalid_0's auc: 0.764316\n",
      "Training until validation scores don't improve for 50 rounds\n",
      "Early stopping, best iteration is:\n",
      "[122]\tvalid_0's auc: 0.762595\n",
      "Training until validation scores don't improve for 50 rounds\n",
      "Early stopping, best iteration is:\n",
      "[94]\tvalid_0's auc: 0.775873\n",
      "Training until validation scores don't improve for 50 rounds\n",
      "Early stopping, best iteration is:\n",
      "[73]\tvalid_0's auc: 0.765822\n",
      "Training until validation scores don't improve for 50 rounds\n",
      "Early stopping, best iteration is:\n",
      "[100]\tvalid_0's auc: 0.767877\n"
     ]
    },
    {
     "name": "stderr",
     "output_type": "stream",
     "text": [
      "[I 2025-07-22 13:12:25,922] Trial 38 finished with value: 0.7672967989521479 and parameters: {'learning_rate': 0.11779737181637127, 'num_leaves': 72, 'max_depth': 10, 'min_child_samples': 74, 'subsample': 0.7674408664458491, 'colsample_bytree': 0.7373228864744936, 'reg_alpha': 1.7197226069150657, 'reg_lambda': 4.001761427114237}. Best is trial 21 with value: 0.7719831695670157.\n"
     ]
    },
    {
     "name": "stdout",
     "output_type": "stream",
     "text": [
      "Training until validation scores don't improve for 50 rounds\n",
      "Early stopping, best iteration is:\n",
      "[628]\tvalid_0's auc: 0.768859\n",
      "Training until validation scores don't improve for 50 rounds\n",
      "Early stopping, best iteration is:\n",
      "[692]\tvalid_0's auc: 0.76716\n",
      "Training until validation scores don't improve for 50 rounds\n",
      "Early stopping, best iteration is:\n",
      "[512]\tvalid_0's auc: 0.779827\n",
      "Training until validation scores don't improve for 50 rounds\n",
      "Early stopping, best iteration is:\n",
      "[613]\tvalid_0's auc: 0.769081\n",
      "Training until validation scores don't improve for 50 rounds\n",
      "Early stopping, best iteration is:\n",
      "[621]\tvalid_0's auc: 0.771932\n"
     ]
    },
    {
     "name": "stderr",
     "output_type": "stream",
     "text": [
      "[I 2025-07-22 13:14:20,726] Trial 39 finished with value: 0.7713715730727423 and parameters: {'learning_rate': 0.023808065970619526, 'num_leaves': 79, 'max_depth': 8, 'min_child_samples': 40, 'subsample': 0.8570992382397458, 'colsample_bytree': 0.8125874397956334, 'reg_alpha': 0.6514182643717767, 'reg_lambda': 3.016863245882695}. Best is trial 21 with value: 0.7719831695670157.\n"
     ]
    },
    {
     "name": "stdout",
     "output_type": "stream",
     "text": [
      "Training until validation scores don't improve for 50 rounds\n",
      "Early stopping, best iteration is:\n",
      "[329]\tvalid_0's auc: 0.767809\n",
      "Training until validation scores don't improve for 50 rounds\n",
      "Early stopping, best iteration is:\n",
      "[437]\tvalid_0's auc: 0.767583\n",
      "Training until validation scores don't improve for 50 rounds\n",
      "Early stopping, best iteration is:\n",
      "[408]\tvalid_0's auc: 0.778921\n",
      "Training until validation scores don't improve for 50 rounds\n",
      "Early stopping, best iteration is:\n",
      "[341]\tvalid_0's auc: 0.76944\n",
      "Training until validation scores don't improve for 50 rounds\n",
      "Early stopping, best iteration is:\n",
      "[355]\tvalid_0's auc: 0.771945\n"
     ]
    },
    {
     "name": "stderr",
     "output_type": "stream",
     "text": [
      "[I 2025-07-22 13:14:58,011] Trial 40 finished with value: 0.7711395829315707 and parameters: {'learning_rate': 0.10685690303232823, 'num_leaves': 87, 'max_depth': 4, 'min_child_samples': 44, 'subsample': 0.7311357405594673, 'colsample_bytree': 0.7677537000655048, 'reg_alpha': 1.0561452406273495, 'reg_lambda': 4.357641281536289}. Best is trial 21 with value: 0.7719831695670157.\n"
     ]
    },
    {
     "name": "stdout",
     "output_type": "stream",
     "text": [
      "Training until validation scores don't improve for 50 rounds\n",
      "Early stopping, best iteration is:\n",
      "[511]\tvalid_0's auc: 0.769705\n",
      "Training until validation scores don't improve for 50 rounds\n",
      "Early stopping, best iteration is:\n",
      "[665]\tvalid_0's auc: 0.767492\n",
      "Training until validation scores don't improve for 50 rounds\n",
      "Early stopping, best iteration is:\n",
      "[424]\tvalid_0's auc: 0.778727\n",
      "Training until validation scores don't improve for 50 rounds\n",
      "Early stopping, best iteration is:\n",
      "[543]\tvalid_0's auc: 0.769497\n",
      "Training until validation scores don't improve for 50 rounds\n",
      "Early stopping, best iteration is:\n",
      "[442]\tvalid_0's auc: 0.772128\n"
     ]
    },
    {
     "name": "stderr",
     "output_type": "stream",
     "text": [
      "[I 2025-07-22 13:16:03,458] Trial 41 finished with value: 0.7715099387423734 and parameters: {'learning_rate': 0.05731110835476203, 'num_leaves': 86, 'max_depth': 5, 'min_child_samples': 66, 'subsample': 0.6939504859139716, 'colsample_bytree': 0.9668103364779687, 'reg_alpha': 2.177473845341071, 'reg_lambda': 4.7422659321241225}. Best is trial 21 with value: 0.7719831695670157.\n"
     ]
    },
    {
     "name": "stdout",
     "output_type": "stream",
     "text": [
      "Training until validation scores don't improve for 50 rounds\n",
      "Early stopping, best iteration is:\n",
      "[518]\tvalid_0's auc: 0.769854\n",
      "Training until validation scores don't improve for 50 rounds\n",
      "Early stopping, best iteration is:\n",
      "[693]\tvalid_0's auc: 0.767551\n",
      "Training until validation scores don't improve for 50 rounds\n",
      "Early stopping, best iteration is:\n",
      "[647]\tvalid_0's auc: 0.779827\n",
      "Training until validation scores don't improve for 50 rounds\n",
      "Early stopping, best iteration is:\n",
      "[609]\tvalid_0's auc: 0.770217\n",
      "Training until validation scores don't improve for 50 rounds\n",
      "Early stopping, best iteration is:\n",
      "[727]\tvalid_0's auc: 0.77343\n"
     ]
    },
    {
     "name": "stderr",
     "output_type": "stream",
     "text": [
      "[I 2025-07-22 13:17:20,070] Trial 42 finished with value: 0.7721758831989416 and parameters: {'learning_rate': 0.03768114842662288, 'num_leaves': 76, 'max_depth': 5, 'min_child_samples': 56, 'subsample': 0.8014886697386, 'colsample_bytree': 0.8968676280209675, 'reg_alpha': 2.5165987178674207, 'reg_lambda': 2.760552845962208}. Best is trial 42 with value: 0.7721758831989416.\n"
     ]
    },
    {
     "name": "stdout",
     "output_type": "stream",
     "text": [
      "Training until validation scores don't improve for 50 rounds\n",
      "Did not meet early stopping. Best iteration is:\n",
      "[1000]\tvalid_0's auc: 0.762785\n",
      "Training until validation scores don't improve for 50 rounds\n",
      "Early stopping, best iteration is:\n",
      "[3]\tvalid_0's auc: 0.718053\n",
      "Training until validation scores don't improve for 50 rounds\n",
      "Did not meet early stopping. Best iteration is:\n",
      "[1000]\tvalid_0's auc: 0.773065\n",
      "Training until validation scores don't improve for 50 rounds\n",
      "Did not meet early stopping. Best iteration is:\n",
      "[1000]\tvalid_0's auc: 0.763277\n",
      "Training until validation scores don't improve for 50 rounds\n",
      "Did not meet early stopping. Best iteration is:\n",
      "[1000]\tvalid_0's auc: 0.76577\n"
     ]
    },
    {
     "name": "stderr",
     "output_type": "stream",
     "text": [
      "[I 2025-07-22 13:18:38,807] Trial 43 finished with value: 0.7565899007521478 and parameters: {'learning_rate': 0.0102409289991164, 'num_leaves': 75, 'max_depth': 4, 'min_child_samples': 53, 'subsample': 0.8130966483050134, 'colsample_bytree': 0.8958754925170999, 'reg_alpha': 2.678049497115519, 'reg_lambda': 3.1214047774460703}. Best is trial 42 with value: 0.7721758831989416.\n"
     ]
    },
    {
     "name": "stdout",
     "output_type": "stream",
     "text": [
      "Training until validation scores don't improve for 50 rounds\n",
      "Early stopping, best iteration is:\n",
      "[662]\tvalid_0's auc: 0.767858\n",
      "Training until validation scores don't improve for 50 rounds\n",
      "Early stopping, best iteration is:\n",
      "[778]\tvalid_0's auc: 0.767213\n",
      "Training until validation scores don't improve for 50 rounds\n",
      "Early stopping, best iteration is:\n",
      "[610]\tvalid_0's auc: 0.779494\n",
      "Training until validation scores don't improve for 50 rounds\n",
      "Early stopping, best iteration is:\n",
      "[815]\tvalid_0's auc: 0.770838\n",
      "Training until validation scores don't improve for 50 rounds\n",
      "Early stopping, best iteration is:\n",
      "[707]\tvalid_0's auc: 0.773428\n"
     ]
    },
    {
     "name": "stderr",
     "output_type": "stream",
     "text": [
      "[I 2025-07-22 13:19:36,951] Trial 44 finished with value: 0.7717661643257683 and parameters: {'learning_rate': 0.08378147787971066, 'num_leaves': 80, 'max_depth': 3, 'min_child_samples': 56, 'subsample': 0.7818961992553425, 'colsample_bytree': 0.9321351711948095, 'reg_alpha': 3.048180942048308, 'reg_lambda': 3.70643767374193}. Best is trial 42 with value: 0.7721758831989416.\n"
     ]
    },
    {
     "name": "stdout",
     "output_type": "stream",
     "text": [
      "Training until validation scores don't improve for 50 rounds\n",
      "Early stopping, best iteration is:\n",
      "[744]\tvalid_0's auc: 0.769833\n",
      "Training until validation scores don't improve for 50 rounds\n",
      "Early stopping, best iteration is:\n",
      "[820]\tvalid_0's auc: 0.768511\n",
      "Training until validation scores don't improve for 50 rounds\n",
      "Early stopping, best iteration is:\n",
      "[572]\tvalid_0's auc: 0.779633\n",
      "Training until validation scores don't improve for 50 rounds\n",
      "Early stopping, best iteration is:\n",
      "[521]\tvalid_0's auc: 0.77052\n",
      "Training until validation scores don't improve for 50 rounds\n",
      "Early stopping, best iteration is:\n",
      "[734]\tvalid_0's auc: 0.772528\n"
     ]
    },
    {
     "name": "stderr",
     "output_type": "stream",
     "text": [
      "[I 2025-07-22 13:20:54,778] Trial 45 finished with value: 0.7722052869742261 and parameters: {'learning_rate': 0.04404069198206419, 'num_leaves': 67, 'max_depth': 5, 'min_child_samples': 50, 'subsample': 0.7398923939475215, 'colsample_bytree': 0.8628086759666401, 'reg_alpha': 1.83151487073395, 'reg_lambda': 2.8586296943324023}. Best is trial 45 with value: 0.7722052869742261.\n"
     ]
    },
    {
     "name": "stdout",
     "output_type": "stream",
     "text": [
      "Training until validation scores don't improve for 50 rounds\n",
      "Early stopping, best iteration is:\n",
      "[693]\tvalid_0's auc: 0.769416\n",
      "Training until validation scores don't improve for 50 rounds\n",
      "Early stopping, best iteration is:\n",
      "[753]\tvalid_0's auc: 0.76733\n",
      "Training until validation scores don't improve for 50 rounds\n",
      "Early stopping, best iteration is:\n",
      "[517]\tvalid_0's auc: 0.779372\n",
      "Training until validation scores don't improve for 50 rounds\n",
      "Early stopping, best iteration is:\n",
      "[770]\tvalid_0's auc: 0.770347\n",
      "Training until validation scores don't improve for 50 rounds\n",
      "Early stopping, best iteration is:\n",
      "[598]\tvalid_0's auc: 0.772247\n"
     ]
    },
    {
     "name": "stderr",
     "output_type": "stream",
     "text": [
      "[I 2025-07-22 13:22:12,440] Trial 46 finished with value: 0.771742612331205 and parameters: {'learning_rate': 0.03883075409102247, 'num_leaves': 59, 'max_depth': 5, 'min_child_samples': 47, 'subsample': 0.8377875964090928, 'colsample_bytree': 0.8618389671986948, 'reg_alpha': 2.5355380608157327, 'reg_lambda': 2.88272980177001}. Best is trial 45 with value: 0.7722052869742261.\n"
     ]
    },
    {
     "name": "stdout",
     "output_type": "stream",
     "text": [
      "Training until validation scores don't improve for 50 rounds\n",
      "Early stopping, best iteration is:\n",
      "[216]\tvalid_0's auc: 0.768862\n",
      "Training until validation scores don't improve for 50 rounds\n",
      "Early stopping, best iteration is:\n",
      "[250]\tvalid_0's auc: 0.766413\n",
      "Training until validation scores don't improve for 50 rounds\n",
      "Early stopping, best iteration is:\n",
      "[160]\tvalid_0's auc: 0.77703\n",
      "Training until validation scores don't improve for 50 rounds\n",
      "Early stopping, best iteration is:\n",
      "[204]\tvalid_0's auc: 0.768916\n",
      "Training until validation scores don't improve for 50 rounds\n",
      "Early stopping, best iteration is:\n",
      "[228]\tvalid_0's auc: 0.770861\n"
     ]
    },
    {
     "name": "stderr",
     "output_type": "stream",
     "text": [
      "[I 2025-07-22 13:22:57,542] Trial 47 finished with value: 0.7704163603988967 and parameters: {'learning_rate': 0.07137603539815429, 'num_leaves': 68, 'max_depth': 7, 'min_child_samples': 35, 'subsample': 0.8047506548594076, 'colsample_bytree': 0.8279226923661777, 'reg_alpha': 1.768036706275858, 'reg_lambda': 2.139415381163314}. Best is trial 45 with value: 0.7722052869742261.\n"
     ]
    },
    {
     "name": "stdout",
     "output_type": "stream",
     "text": [
      "Training until validation scores don't improve for 50 rounds\n",
      "Early stopping, best iteration is:\n",
      "[939]\tvalid_0's auc: 0.770196\n",
      "Training until validation scores don't improve for 50 rounds\n",
      "Early stopping, best iteration is:\n",
      "[914]\tvalid_0's auc: 0.767039\n",
      "Training until validation scores don't improve for 50 rounds\n",
      "Early stopping, best iteration is:\n",
      "[603]\tvalid_0's auc: 0.779067\n",
      "Training until validation scores don't improve for 50 rounds\n",
      "Early stopping, best iteration is:\n",
      "[908]\tvalid_0's auc: 0.77087\n",
      "Training until validation scores don't improve for 50 rounds\n",
      "Did not meet early stopping. Best iteration is:\n",
      "[994]\tvalid_0's auc: 0.772777\n"
     ]
    },
    {
     "name": "stderr",
     "output_type": "stream",
     "text": [
      "[I 2025-07-22 13:25:10,885] Trial 48 finished with value: 0.7719896495003711 and parameters: {'learning_rate': 0.02382466367967133, 'num_leaves': 66, 'max_depth': 6, 'min_child_samples': 26, 'subsample': 0.7655531176888467, 'colsample_bytree': 0.5535828073978959, 'reg_alpha': 1.9610984091385195, 'reg_lambda': 1.6089794045561046}. Best is trial 45 with value: 0.7722052869742261.\n"
     ]
    },
    {
     "name": "stdout",
     "output_type": "stream",
     "text": [
      "Training until validation scores don't improve for 50 rounds\n",
      "Early stopping, best iteration is:\n",
      "[918]\tvalid_0's auc: 0.770439\n",
      "Training until validation scores don't improve for 50 rounds\n",
      "Did not meet early stopping. Best iteration is:\n",
      "[1000]\tvalid_0's auc: 0.768299\n",
      "Training until validation scores don't improve for 50 rounds\n",
      "Did not meet early stopping. Best iteration is:\n",
      "[976]\tvalid_0's auc: 0.780206\n",
      "Training until validation scores don't improve for 50 rounds\n",
      "Early stopping, best iteration is:\n",
      "[755]\tvalid_0's auc: 0.770638\n",
      "Training until validation scores don't improve for 50 rounds\n",
      "Early stopping, best iteration is:\n",
      "[904]\tvalid_0's auc: 0.7726\n"
     ]
    },
    {
     "name": "stderr",
     "output_type": "stream",
     "text": [
      "[I 2025-07-22 13:28:01,620] Trial 49 finished with value: 0.772436315663825 and parameters: {'learning_rate': 0.02280647543938272, 'num_leaves': 64, 'max_depth': 6, 'min_child_samples': 17, 'subsample': 0.7647469315402096, 'colsample_bytree': 0.5673960159030922, 'reg_alpha': 3.441721376193107, 'reg_lambda': 1.710834070720233}. Best is trial 49 with value: 0.772436315663825.\n"
     ]
    }
   ],
   "source": [
    "study = optuna.create_study(direction='maximize')\n",
    "study.optimize(objective, n_trials=50)"
   ]
  },
  {
   "cell_type": "code",
   "execution_count": 15,
   "id": "71410131",
   "metadata": {},
   "outputs": [
    {
     "name": "stdout",
     "output_type": "stream",
     "text": [
      "Best AUC: 0.7724\n",
      "{'learning_rate': 0.02280647543938272, 'num_leaves': 64, 'max_depth': 6, 'min_child_samples': 17, 'subsample': 0.7647469315402096, 'colsample_bytree': 0.5673960159030922, 'reg_alpha': 3.441721376193107, 'reg_lambda': 1.710834070720233}\n",
      "Dumped params\n"
     ]
    }
   ],
   "source": [
    "print(f'Best AUC: {study.best_value:.4f}')\n",
    "print(study.best_params)\n",
    "config_path = '../configs/model_config.yaml'\n",
    "with open(config_path, 'w') as file:\n",
    "    yaml.dump(study.best_params, file, default_flow_style=False)\n",
    "print('Dumped params')"
   ]
  }
 ],
 "metadata": {
  "kernelspec": {
   "display_name": "venv",
   "language": "python",
   "name": "python3"
  },
  "language_info": {
   "codemirror_mode": {
    "name": "ipython",
    "version": 3
   },
   "file_extension": ".py",
   "mimetype": "text/x-python",
   "name": "python",
   "nbconvert_exporter": "python",
   "pygments_lexer": "ipython3",
   "version": "3.11.1"
  }
 },
 "nbformat": 4,
 "nbformat_minor": 5
}
