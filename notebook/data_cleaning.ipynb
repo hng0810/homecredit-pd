{
 "cells": [
  {
   "cell_type": "markdown",
   "id": "d3db3ac5",
   "metadata": {},
   "source": [
    "# Data Cleaning"
   ]
  },
  {
   "cell_type": "code",
   "execution_count": 1,
   "id": "aecafb92",
   "metadata": {},
   "outputs": [],
   "source": [
    "import numpy as np\n",
    "import pandas as pd\n",
    "import matplotlib.pyplot as plt\n",
    "import seaborn as sns\n",
    "\n",
    "import sys\n",
    "sys.path.append('../src')\n",
    "import utils.utils as utils\n",
    "\n",
    "!pip freeze > ../requirements.txt"
   ]
  },
  {
   "cell_type": "code",
   "execution_count": 2,
   "id": "400159e3",
   "metadata": {},
   "outputs": [],
   "source": [
    "raw = pd.read_csv(r'..\\data\\backup\\raw_set.csv').drop(['SK_ID_CURR.1', 'RN', 'SK_ID_CURR.2', 'RN.1'], axis=1)\n",
    "# # Logging data types\n",
    "# types = pd.DataFrame(raw.dtype)\n",
    "# types.to_csv('../log/dtypes.csv')\n",
    "# ddesc = raw.describe().T\n",
    "# ddesc.to_csv('../log/ddesc.csv')\n",
    "# import pandas as pd\n",
    "# dobject = []\n",
    "# for col in raw.columns:\n",
    "#     if raw[col].dtype == 'object' or raw[col].dtype == 'category':\n",
    "#         dobject.append([col, raw[col].dtype, raw[col].nunique(), raw[col].unique()])\n",
    "\n",
    "# dobject_df = pd.DataFrame(dobject, columns=['column', 'dtype', 'nunique', 'unique_values'])\n",
    "# dobject_df.to_csv('../log/dobject.csv', index=False)"
   ]
  },
  {
   "cell_type": "markdown",
   "id": "43cc70d9",
   "metadata": {},
   "source": [
    "## Clean object data"
   ]
  },
  {
   "cell_type": "code",
   "execution_count": 3,
   "id": "3f79c1e0",
   "metadata": {},
   "outputs": [
    {
     "name": "stdout",
     "output_type": "stream",
     "text": [
      "OCCUPATION_TYPE has more than 10 unique values, bypass auto transform.\n",
      "ORGANIZATION_TYPE has more than 10 unique values, bypass auto transform.\n"
     ]
    }
   ],
   "source": [
    "def auto_transform_object(df, max_unique=10, output_path = \".\"):\n",
    "    object_col = []\n",
    "    log_binary_bin = []\n",
    "    for col in df.columns:\n",
    "        if df[col].dtype == 'object' or df[col].dtype.name == 'category':\n",
    "            object_col.append(col)\n",
    "    for col in object_col:\n",
    "        nunique = df[col].nunique()\n",
    "        if nunique == 2:\n",
    "            vals = list(df[col].unique())\n",
    "            df[col] = np.where(df[col] == vals[0], 1, np.where(df[col] == vals[1], 0, np.nan))\n",
    "            log_binary_bin.append([col, vals[0], vals[1]])\n",
    "        elif nunique > 2 and nunique < max_unique:\n",
    "            df[col] = df[col].astype('category')\n",
    "        elif nunique > max_unique:\n",
    "            print(f'{col} has more than {max_unique} unique values, bypass auto transform.')\n",
    "    pd.DataFrame(log_binary_bin, columns=['column', 'bin_1', 'bin_0']).to_csv(output_path, index=False)\n",
    "\n",
    "auto_transform_object(raw, max_unique=10, output_path = '../log/log_binary_bin.csv')"
   ]
  },
  {
   "cell_type": "code",
   "execution_count": 4,
   "id": "a3ff84f5",
   "metadata": {},
   "outputs": [],
   "source": [
    "raw['CODE_GENDER'] = np.where(raw['CODE_GENDER'] == 'XNA', np.nan, raw['CODE_GENDER'])\n",
    "raw['CODE_GENDER'] = (raw['CODE_GENDER'] == 'M').astype(int)\n",
    "\n",
    "raw['NAME_INCOME_TYPE'] = raw['NAME_INCOME_TYPE'].apply(lambda x: 'Others' if x in ['Unemployed', 'Student', 'Businessman', 'Maternity leave'] else x)\n",
    "raw['NAME_INCOME_TYPE'] = raw['NAME_INCOME_TYPE'].astype('category')\n",
    "\n",
    "raw['IS_UNACCOMPANIED'] = np.where(raw['NAME_TYPE_SUITE'] == 'Unaccompanied', 1, np.where(raw['NAME_TYPE_SUITE'].isna(), np.nan, 0))\n",
    "\n",
    "raw['IS_SINGLE'] = np.where(raw['NAME_FAMILY_STATUS'] == 'Single / not married', 1, np.where(raw['NAME_FAMILY_STATUS'] == 'Unknown', np.nan, 0))\n",
    "\n",
    "raw['OCCUPATION_TYPE'] = raw['OCCUPATION_TYPE'].astype('category')\n",
    "\n",
    "def category(val):\n",
    "    if 'Industry' in val: return 'industry'\n",
    "    if 'Trade' in val: return 'trade'\n",
    "    if 'Transport' in val: return 'transport'\n",
    "    if 'Business Entity' in val: return 'business'\n",
    "    if val in ['XNA']: return 'unknown'\n",
    "    if val in ['Self-employed']: return 'self-employed'\n",
    "    if val in ['Other']: return 'others_1'\n",
    "    else : return 'others_2'\n",
    "    return val\n",
    "raw['ORGANIZATION_TYPE'] = raw['ORGANIZATION_TYPE'].apply(category)\n",
    "raw['ORGANIZATION_TYPE'] = raw['ORGANIZATION_TYPE'].astype('category')"
   ]
  },
  {
   "cell_type": "markdown",
   "id": "da248dad",
   "metadata": {},
   "source": [
    "## Clean numeric data"
   ]
  },
  {
   "cell_type": "code",
   "execution_count": 5,
   "id": "9bd69d00",
   "metadata": {},
   "outputs": [],
   "source": [
    "raw['DAYS_EMPLOYED'] = np.where(raw['DAYS_EMPLOYED'] == '365243', np.nan, np.where(raw['DAYS_EMPLOYED'].isna(), np.nan, raw['DAYS_EMPLOYED']))\n",
    "\n",
    "raw['OWN_CAR_OVER_40Y'] = np.where(raw['OWN_CAR_AGE'] >= 40, 1, 0)\n",
    "raw['OWN_CAR_AGE'] = np.where(raw['OWN_CAR_AGE'] >= 40, 40, np.where(raw['OWN_CAR_AGE'].isna(), np.nan, raw['OWN_CAR_AGE']))\n",
    "\n",
    "raw['AMT_INCOME_TOTAL'] = np.where(raw['AMT_INCOME_TOTAL'] == 117000000, 202500, raw['AMT_INCOME_TOTAL'])"
   ]
  },
  {
   "cell_type": "code",
   "execution_count": 6,
   "id": "a1032805",
   "metadata": {},
   "outputs": [],
   "source": [
    "raw.to_csv('../data/cleaned_data.csv', index=False)"
   ]
  }
 ],
 "metadata": {
  "kernelspec": {
   "display_name": "venv",
   "language": "python",
   "name": "python3"
  },
  "language_info": {
   "codemirror_mode": {
    "name": "ipython",
    "version": 3
   },
   "file_extension": ".py",
   "mimetype": "text/x-python",
   "name": "python",
   "nbconvert_exporter": "python",
   "pygments_lexer": "ipython3",
   "version": "3.11.1"
  }
 },
 "nbformat": 4,
 "nbformat_minor": 5
}
