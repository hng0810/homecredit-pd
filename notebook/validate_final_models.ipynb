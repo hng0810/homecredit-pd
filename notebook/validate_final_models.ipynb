{
 "cells": [
  {
   "cell_type": "code",
   "execution_count": 2,
   "id": "98c4ab66",
   "metadata": {},
   "outputs": [
    {
     "name": "stderr",
     "output_type": "stream",
     "text": [
      "c:\\Users\\HNg\\Desktop\\Researches\\homecredit-pd\\venv\\Lib\\site-packages\\tqdm\\auto.py:21: TqdmWarning: IProgress not found. Please update jupyter and ipywidgets. See https://ipywidgets.readthedocs.io/en/stable/user_install.html\n",
      "  from .autonotebook import tqdm as notebook_tqdm\n"
     ]
    }
   ],
   "source": [
    "import numpy as np\n",
    "import pandas as pd\n",
    "import matplotlib as plt\n",
    "import seaborn as sns\n",
    "import optuna\n",
    "import lightgbm\n",
    "from sklearn.model_selection import KFold\n",
    "from sklearn.metrics import roc_auc_score\n",
    "\n",
    "import os\n",
    "import yaml\n",
    "import sys\n",
    "\n",
    "sys.path.append('../src')\n",
    "import utils.utils as utils\n",
    "\n",
    "!pip freeze > ../requirements.txt"
   ]
  },
  {
   "cell_type": "code",
   "execution_count": 3,
   "id": "755b6866",
   "metadata": {},
   "outputs": [],
   "source": [
    "data = pd.read_csv('../data/cleaned_data.csv')"
   ]
  },
  {
   "cell_type": "code",
   "execution_count": 4,
   "id": "1a8b7fdc",
   "metadata": {},
   "outputs": [
    {
     "name": "stdout",
     "output_type": "stream",
     "text": [
      "Training Fold 1\n",
      "[LightGBM] [Info] Auto-choosing col-wise multi-threading, the overhead of testing was 0.204219 seconds.\n",
      "You can set `force_col_wise=true` to remove the overhead.\n",
      "[LightGBM] [Info] Total Bins 26146\n",
      "[LightGBM] [Info] Number of data points in the train set: 246008, number of used features: 211\n",
      "[LightGBM] [Info] Start training from score 0.080697\n",
      "Training until validation scores don't improve for 50 rounds\n",
      "Did not meet early stopping. Best iteration is:\n",
      "[1000]\ttraining's l2: 0.0610107\tvalid_1's l2: 0.0669988\n",
      "Training Fold 2\n",
      "[LightGBM] [Info] Auto-choosing row-wise multi-threading, the overhead of testing was 0.036278 seconds.\n",
      "You can set `force_row_wise=true` to remove the overhead.\n",
      "And if memory is not enough, you can set `force_col_wise=true`.\n",
      "[LightGBM] [Info] Total Bins 26222\n",
      "[LightGBM] [Info] Number of data points in the train set: 246009, number of used features: 210\n",
      "[LightGBM] [Info] Start training from score 0.080521\n",
      "Training until validation scores don't improve for 50 rounds\n",
      "Did not meet early stopping. Best iteration is:\n",
      "[1000]\ttraining's l2: 0.0607969\tvalid_1's l2: 0.067562\n",
      "Training Fold 3\n",
      "[LightGBM] [Info] Auto-choosing col-wise multi-threading, the overhead of testing was 0.143228 seconds.\n",
      "You can set `force_col_wise=true` to remove the overhead.\n",
      "[LightGBM] [Info] Total Bins 26143\n",
      "[LightGBM] [Info] Number of data points in the train set: 246009, number of used features: 211\n",
      "[LightGBM] [Info] Start training from score 0.080668\n",
      "Training until validation scores don't improve for 50 rounds\n",
      "Did not meet early stopping. Best iteration is:\n",
      "[1000]\ttraining's l2: 0.0609658\tvalid_1's l2: 0.067017\n",
      "Training Fold 4\n",
      "[LightGBM] [Info] Auto-choosing col-wise multi-threading, the overhead of testing was 0.165779 seconds.\n",
      "You can set `force_col_wise=true` to remove the overhead.\n",
      "[LightGBM] [Info] Total Bins 26129\n",
      "[LightGBM] [Info] Number of data points in the train set: 246009, number of used features: 210\n",
      "[LightGBM] [Info] Start training from score 0.080371\n",
      "Training until validation scores don't improve for 50 rounds\n",
      "Did not meet early stopping. Best iteration is:\n",
      "[1000]\ttraining's l2: 0.0607777\tvalid_1's l2: 0.0678194\n",
      "Training Fold 5\n",
      "[LightGBM] [Info] Auto-choosing col-wise multi-threading, the overhead of testing was 0.119845 seconds.\n",
      "You can set `force_col_wise=true` to remove the overhead.\n",
      "[LightGBM] [Info] Total Bins 26149\n",
      "[LightGBM] [Info] Number of data points in the train set: 246009, number of used features: 210\n",
      "[LightGBM] [Info] Start training from score 0.081387\n",
      "Training until validation scores don't improve for 50 rounds\n",
      "Did not meet early stopping. Best iteration is:\n",
      "[1000]\ttraining's l2: 0.0613952\tvalid_1's l2: 0.0651092\n"
     ]
    }
   ],
   "source": [
    "X = data.drop(['TARGET', 'SK_ID_CURR'], axis=1)\n",
    "y = data['TARGET']\n",
    "\n",
    "# Double check categorical cols\n",
    "cat_cols = [col for col in X.columns if X[col].dtype == 'object' or str(X[col].dtype) == 'category']\n",
    "for col in cat_cols:\n",
    "    X[col] = X[col].astype('category')\n",
    "\n",
    "kf = KFold(n_splits=5, shuffle=True, random_state=810)\n",
    "\n",
    "models = []\n",
    "\n",
    "with open('../configs/model_config.yaml', 'r') as file:\n",
    "    params = yaml.safe_load(file)\n",
    "\n",
    "for fold, (train_idx, val_idx) in enumerate(kf.split(X, y)):\n",
    "    print(f\"Training Fold {fold+1}\")\n",
    "    X_train, X_val = X.iloc[train_idx], X.iloc[val_idx]\n",
    "    y_train, y_val = y.iloc[train_idx], y.iloc[val_idx]\n",
    "\n",
    "    train_data = lightgbm.Dataset(X_train, label=y_train, categorical_feature=cat_cols)\n",
    "    val_data = lightgbm.Dataset(X_val, label=y_val, reference=train_data)\n",
    "\n",
    "    model = lightgbm.train(\n",
    "        params,\n",
    "        train_data,\n",
    "        valid_sets=[train_data, val_data],\n",
    "        num_boost_round=1000,\n",
    "        callbacks=[\n",
    "            lightgbm.early_stopping(stopping_rounds=50)\n",
    "        ]\n",
    "    )\n",
    "    models.append(model)"
   ]
  },
  {
   "cell_type": "code",
   "execution_count": 5,
   "id": "8baa4412",
   "metadata": {},
   "outputs": [
    {
     "name": "stdout",
     "output_type": "stream",
     "text": [
      "ROC AUC: 0.8315496485073146\n",
      "GINI: 0.6630992970146292\n"
     ]
    }
   ],
   "source": [
    "X_train, X_val = X.iloc[train_idx], X.iloc[val_idx]\n",
    "y_train, y_val = y.iloc[train_idx], y.iloc[val_idx]\n",
    "preds = np.zeros(len(X_val))\n",
    "# Calculate and print the ROC AUC\n",
    "for model in models:\n",
    "    preds += model.predict(X_val) / len(models)\n",
    "\n",
    "roc_auc = roc_auc_score(y_val, preds)\n",
    "# Calculate GINI\n",
    "gini = 2 * roc_auc - 1\n",
    "print(f\"ROC AUC: {roc_auc}\")\n",
    "print(f\"GINI: {gini}\")"
   ]
  },
  {
   "cell_type": "code",
   "execution_count": 6,
   "id": "57abb65c",
   "metadata": {},
   "outputs": [],
   "source": [
    "# Test on OOB set\n",
    "oob_set = pd.read_csv('../data/backup/oob_set.csv').drop(['SK_ID_CURR.1', 'RN', 'SK_ID_CURR.2', 'RN.1'], axis=1)"
   ]
  },
  {
   "cell_type": "code",
   "execution_count": 7,
   "id": "be8121ab",
   "metadata": {},
   "outputs": [
    {
     "name": "stdout",
     "output_type": "stream",
     "text": [
      "OCCUPATION_TYPE has more than 10 unique values, bypass auto transform.\n",
      "ORGANIZATION_TYPE has more than 10 unique values, bypass auto transform.\n"
     ]
    }
   ],
   "source": [
    "def auto_transform_object(df, max_unique=10, output_path = \".\"):\n",
    "    object_col = []\n",
    "    log_binary_bin = []\n",
    "    for col in df.columns:\n",
    "        if df[col].dtype == 'object' or df[col].dtype.name == 'category':\n",
    "            object_col.append(col)\n",
    "    for col in object_col:\n",
    "        nunique = df[col].nunique()\n",
    "        if nunique == 2:\n",
    "            vals = list(df[col].unique())\n",
    "            df[col] = np.where(df[col] == vals[0], 1, np.where(df[col] == vals[1], 0, np.nan))\n",
    "            log_binary_bin.append([col, vals[0], vals[1]])\n",
    "        elif nunique > 2 and nunique < max_unique:\n",
    "            df[col] = df[col].astype('category')\n",
    "        elif nunique > max_unique:\n",
    "            print(f'{col} has more than {max_unique} unique values, bypass auto transform.')\n",
    "    pd.DataFrame(log_binary_bin, columns=['column', 'bin_1', 'bin_0']).to_csv(output_path, index=False)\n",
    "\n",
    "auto_transform_object(oob_set, max_unique=10, output_path = '../log/log_binary_bin_oob_set.csv')"
   ]
  },
  {
   "cell_type": "code",
   "execution_count": 8,
   "id": "252f5cfa",
   "metadata": {},
   "outputs": [],
   "source": [
    "oob_set['CODE_GENDER'] = np.where(oob_set['CODE_GENDER'] == 'XNA', np.nan, oob_set['CODE_GENDER'])\n",
    "oob_set['CODE_GENDER'] = (oob_set['CODE_GENDER'] == 'M').astype(int)\n",
    "\n",
    "oob_set['NAME_INCOME_TYPE'] = oob_set['NAME_INCOME_TYPE'].apply(lambda x: 'Others' if x in ['Unemployed', 'Student', 'Businessman', 'Maternity leave'] else x)\n",
    "oob_set['NAME_INCOME_TYPE'] = oob_set['NAME_INCOME_TYPE'].astype('category')\n",
    "\n",
    "oob_set['IS_UNACCOMPANIED'] = np.where(oob_set['NAME_TYPE_SUITE'] == 'Unaccompanied', 1, np.where(oob_set['NAME_TYPE_SUITE'].isna(), np.nan, 0))\n",
    "\n",
    "oob_set['IS_SINGLE'] = np.where(oob_set['NAME_FAMILY_STATUS'] == 'Single / not married', 1, np.where(oob_set['NAME_FAMILY_STATUS'] == 'Unknown', np.nan, 0))\n",
    "\n",
    "oob_set['OCCUPATION_TYPE'] = oob_set['OCCUPATION_TYPE'].astype('category')\n",
    "\n",
    "def category(val):\n",
    "    if 'Industry' in val: return 'industry'\n",
    "    if 'Trade' in val: return 'trade'\n",
    "    if 'Transport' in val: return 'transport'\n",
    "    if 'Business Entity' in val: return 'business'\n",
    "    if val in ['XNA']: return 'unknown'\n",
    "    if val in ['Self-employed']: return 'self-employed'\n",
    "    if val in ['Other']: return 'others_1'\n",
    "    else : return 'others_2'\n",
    "    return val\n",
    "oob_set['ORGANIZATION_TYPE'] = oob_set['ORGANIZATION_TYPE'].apply(category)\n",
    "oob_set['ORGANIZATION_TYPE'] = oob_set['ORGANIZATION_TYPE'].astype('category')"
   ]
  },
  {
   "cell_type": "code",
   "execution_count": 9,
   "id": "57a2150f",
   "metadata": {},
   "outputs": [],
   "source": [
    "oob_set['DAYS_EMPLOYED'] = np.where(oob_set['DAYS_EMPLOYED'] == '365243', np.nan, np.where(oob_set['DAYS_EMPLOYED'].isna(), np.nan, oob_set['DAYS_EMPLOYED']))\n",
    "\n",
    "oob_set['OWN_CAR_OVER_40Y'] = np.where(oob_set['OWN_CAR_AGE'] >= 40, 1, 0)\n",
    "oob_set['OWN_CAR_AGE'] = np.where(oob_set['OWN_CAR_AGE'] >= 40, 40, np.where(oob_set['OWN_CAR_AGE'].isna(), np.nan, oob_set['OWN_CAR_AGE']))\n",
    "\n",
    "oob_set['AMT_INCOME_TOTAL'] = np.where(oob_set['AMT_INCOME_TOTAL'] == 117000000, 202500, oob_set['AMT_INCOME_TOTAL'])"
   ]
  },
  {
   "cell_type": "code",
   "execution_count": null,
   "id": "3af617ec",
   "metadata": {},
   "outputs": [],
   "source": [
    "# oob_set.to_csv('../data/cleaned_oob_data.csv', index=False)"
   ]
  },
  {
   "cell_type": "code",
   "execution_count": null,
   "id": "79c9b13a",
   "metadata": {},
   "outputs": [],
   "source": [
    "X_test = oob_set.drop(['SK_ID_CURR'], axis=1)\n",
    "\n",
    "# Initialize preds for test set\n",
    "preds = np.zeros(len(X_test))\n",
    "\n",
    "# Calculate and print the ROC AUC\n",
    "for model in models:\n",
    "    preds += model.predict(X_test) / len(models)"
   ]
  },
  {
   "cell_type": "code",
   "execution_count": 17,
   "id": "8ff53a8f",
   "metadata": {},
   "outputs": [],
   "source": [
    "# Create new test output with SK_ID_CURR on X set and preds\n",
    "test_output = pd.DataFrame({'SK_ID_CURR': oob_set['SK_ID_CURR'], 'TARGET': preds})\n",
    "test_output.to_csv('../data/test_output.csv', index=False)"
   ]
  }
 ],
 "metadata": {
  "kernelspec": {
   "display_name": "venv",
   "language": "python",
   "name": "python3"
  },
  "language_info": {
   "codemirror_mode": {
    "name": "ipython",
    "version": 3
   },
   "file_extension": ".py",
   "mimetype": "text/x-python",
   "name": "python",
   "nbconvert_exporter": "python",
   "pygments_lexer": "ipython3",
   "version": "3.11.1"
  }
 },
 "nbformat": 4,
 "nbformat_minor": 5
}
